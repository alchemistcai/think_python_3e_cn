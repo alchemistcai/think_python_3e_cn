{
 "cells": [
  {
   "cell_type": "markdown",
   "id": "1331faa1",
   "metadata": {},
   "source": [
    "可以在[Bookshop.org](https://bookshop.org/a/98697/9781098155438) 和\n",
    "[Amazon](https://www.amazon.com/_/dp/1098155432?smid=ATVPDKIKX0DER&_encoding=UTF8&tag=oreilly20-20&_encoding=UTF8&tag=greenteapre01-20&linkCode=ur2&linkId=e2a529f94920295d27ec8a06e757dc7c&camp=1789&creative=9325)获取纸制版和电子版的*Think Python 3e*."
   ]
  },
  {
   "cell_type": "code",
   "execution_count": 1,
   "id": "df64b7da",
   "metadata": {
    "tags": []
   },
   "outputs": [
    {
     "name": "stdout",
     "output_type": "stream",
     "text": [
      "Downloaded jupyturtle.py\n"
     ]
    }
   ],
   "source": [
    "from os.path import basename, exists\n",
    "\n",
    "def download(url):\n",
    "    filename = basename(url)\n",
    "    if not exists(filename):\n",
    "        from urllib.request import urlretrieve\n",
    "\n",
    "        local, _ = urlretrieve(url, filename)\n",
    "        print(\"Downloaded \" + str(local))\n",
    "    return filename\n",
    "\n",
    "download('https://gitee.com/regentsai/Think_Python_3e_CN/blob/master/thinkpython.py');\n",
    "download('https://gitee.com/regentsai/Think_Python_3e_CN/blob/master/diagram.py');\n",
    "download('https://gitee.com/regentsai/Think_Python_3e_CN/blob/master/jupyturtle.py');"
   ]
  },
  {
   "cell_type": "code",
   "execution_count": 2,
   "id": "320fc8bc",
   "metadata": {
    "tags": []
   },
   "outputs": [],
   "source": [
    "import thinkpython\n",
    "\n",
    "%load_ext autoreload\n",
    "%autoreload 2"
   ]
  },
  {
   "cell_type": "markdown",
   "id": "fbb4d5a2",
   "metadata": {},
   "source": [
    "# 第4章：函数和接口\n",
    "\n",
    "本章介绍名为`jupyturtle`的模块，这个模块允许你指挥一只想象中的海龟，创建简单的绘画。我们会使用这个模块绘制方块，多边形和圆，并展示**界面设计interface design**。界面设计是设计一起协作的函数的一种方式。"
   ]
  },
  {
   "cell_type": "markdown",
   "id": "0b0efa00",
   "metadata": {
    "tags": []
   },
   "source": [
    "##  jupyturtle模块\n",
    "\n",
    "要使用`jupyturtle`模块，我们可以像这样进行导入："
   ]
  },
  {
   "cell_type": "code",
   "execution_count": 3,
   "id": "8f5a8a45",
   "metadata": {},
   "outputs": [],
   "source": [
    "import jupyturtle"
   ]
  },
  {
   "cell_type": "markdown",
   "id": "8c801121",
   "metadata": {},
   "source": [
    "现在我们可以使用模块中定义的函数，例如`make_turtle`和`forward`。"
   ]
  },
  {
   "cell_type": "code",
   "execution_count": 4,
   "id": "b3f255cd",
   "metadata": {},
   "outputs": [
    {
     "data": {
      "text/html": [
       "<svg width=\"300\" height=\"150\">\n",
       "    <rect width=\"100%\" height=\"100%\" fill=\"#F3F3F7\" />\n",
       "\n",
       "<line x1=\"150\" y1=\"75\" x2=\"250.0\" y2=\"75.0\"\n",
       "    stroke=\"#663399\" stroke-width=\"2\" />\n",
       "\n",
       "<g transform=\"rotate(-90.0,250.0,75.0) translate(250.0, 75.0)\">\n",
       "    <circle stroke=\"#63A375\" stroke-width=\"2\" fill=\"transparent\" r=\"5.5\" cx=\"0\" cy=\"0\"/>\n",
       "    <polygon points=\"0,12 2,9 -2,9\" style=\"fill:#63A375;stroke:#63A375;stroke-width:2\"/>\n",
       "</g>\n",
       "\n",
       "</svg>"
      ],
      "text/plain": [
       "<IPython.core.display.HTML object>"
      ]
     },
     "metadata": {},
     "output_type": "display_data"
    }
   ],
   "source": [
    "jupyturtle.make_turtle()\n",
    "jupyturtle.forward(100)"
   ]
  },
  {
   "cell_type": "markdown",
   "id": "77a61cbb",
   "metadata": {},
   "source": [
    "`make_turtle`创建一个**画布canvas**，在画布的空间内我们可以绘画；`make_turtle`还会创建一只海龟，由圆形的壳和三角形的头表示。圆圈显示了海龟的位置，而三角形表示了海龟的面向方向。\n",
    "\n",
    "我们将多次使用`jupyturtle`中定义的函数，因此不每次带上模块的名字会比较方便。如果我们像这样导入模块，就能做到："
   ]
  },
  {
   "cell_type": "code",
   "execution_count": 5,
   "id": "234fde81",
   "metadata": {},
   "outputs": [],
   "source": [
    "from jupyturtle import make_turtle, forward"
   ]
  },
  {
   "cell_type": "markdown",
   "id": "c1322d31",
   "metadata": {},
   "source": [
    "这种导入语句从`jupyturtle`模块导入`make_turtle`和`forward`函数，我们可以直接调用他们："
   ]
  },
  {
   "cell_type": "code",
   "execution_count": 6,
   "id": "1e768880",
   "metadata": {},
   "outputs": [
    {
     "data": {
      "text/html": [
       "<svg width=\"300\" height=\"150\">\n",
       "    <rect width=\"100%\" height=\"100%\" fill=\"#F3F3F7\" />\n",
       "\n",
       "<line x1=\"150\" y1=\"75\" x2=\"250.0\" y2=\"75.0\"\n",
       "    stroke=\"#663399\" stroke-width=\"2\" />\n",
       "\n",
       "<g transform=\"rotate(-90.0,250.0,75.0) translate(250.0, 75.0)\">\n",
       "    <circle stroke=\"#63A375\" stroke-width=\"2\" fill=\"transparent\" r=\"5.5\" cx=\"0\" cy=\"0\"/>\n",
       "    <polygon points=\"0,12 2,9 -2,9\" style=\"fill:#63A375;stroke:#63A375;stroke-width:2\"/>\n",
       "</g>\n",
       "\n",
       "</svg>"
      ],
      "text/plain": [
       "<IPython.core.display.HTML object>"
      ]
     },
     "metadata": {},
     "output_type": "display_data"
    }
   ],
   "source": [
    "make_turtle()\n",
    "forward(100)"
   ]
  },
  {
   "cell_type": "markdown",
   "id": "bd319754",
   "metadata": {},
   "source": [
    "`jupyturtle`还提供了两个函数，`left`与`right`。我们将像这样进行导入："
   ]
  },
  {
   "cell_type": "code",
   "execution_count": 7,
   "id": "6d874b03",
   "metadata": {},
   "outputs": [],
   "source": [
    "from jupyturtle import left, right"
   ]
  },
  {
   "cell_type": "markdown",
   "id": "0da2a311",
   "metadata": {},
   "source": [
    "`left`函数将让海龟向左转，它接受一个参数，即向左转的度数。例如，我们可以让海龟向左转90度。"
   ]
  },
  {
   "cell_type": "code",
   "execution_count": 8,
   "id": "1bb57a0c",
   "metadata": {},
   "outputs": [
    {
     "data": {
      "text/html": [
       "<svg width=\"300\" height=\"150\">\n",
       "    <rect width=\"100%\" height=\"100%\" fill=\"#F3F3F7\" />\n",
       "\n",
       "<line x1=\"150\" y1=\"75\" x2=\"200.0\" y2=\"75.0\"\n",
       "    stroke=\"#663399\" stroke-width=\"2\" />\n",
       "<line x1=\"200.0\" y1=\"75.0\" x2=\"200.0\" y2=\"25.0\"\n",
       "    stroke=\"#663399\" stroke-width=\"2\" />\n",
       "\n",
       "<g transform=\"rotate(180.0,200.0,25.0) translate(200.0, 25.0)\">\n",
       "    <circle stroke=\"#63A375\" stroke-width=\"2\" fill=\"transparent\" r=\"5.5\" cx=\"0\" cy=\"0\"/>\n",
       "    <polygon points=\"0,12 2,9 -2,9\" style=\"fill:#63A375;stroke:#63A375;stroke-width:2\"/>\n",
       "</g>\n",
       "\n",
       "</svg>"
      ],
      "text/plain": [
       "<IPython.core.display.HTML object>"
      ]
     },
     "metadata": {},
     "output_type": "display_data"
    }
   ],
   "source": [
    "make_turtle()\n",
    "forward(50)\n",
    "left(90)\n",
    "forward(50)"
   ]
  },
  {
   "cell_type": "markdown",
   "id": "cea2940f",
   "metadata": {},
   "source": [
    "这段程序让海龟向东移动，然后向北移动，在海龟的身后留下两个线段。在你继续学习之前，看看你能否调整这段程序，绘制一个方块。"
   ]
  },
  {
   "cell_type": "markdown",
   "id": "e20ea96c",
   "metadata": {},
   "source": [
    "## 绘制一个方块\n",
    "\n",
    "以下是绘制方块的一种方法："
   ]
  },
  {
   "cell_type": "code",
   "execution_count": 9,
   "id": "9a9e455f",
   "metadata": {},
   "outputs": [
    {
     "data": {
      "text/html": [
       "<svg width=\"300\" height=\"150\">\n",
       "    <rect width=\"100%\" height=\"100%\" fill=\"#F3F3F7\" />\n",
       "\n",
       "<line x1=\"150\" y1=\"75\" x2=\"200.0\" y2=\"75.0\"\n",
       "    stroke=\"#663399\" stroke-width=\"2\" />\n",
       "<line x1=\"200.0\" y1=\"75.0\" x2=\"200.0\" y2=\"25.0\"\n",
       "    stroke=\"#663399\" stroke-width=\"2\" />\n",
       "<line x1=\"200.0\" y1=\"25.0\" x2=\"150.0\" y2=\"25.0\"\n",
       "    stroke=\"#663399\" stroke-width=\"2\" />\n",
       "<line x1=\"150.0\" y1=\"25.0\" x2=\"150.0\" y2=\"75.0\"\n",
       "    stroke=\"#663399\" stroke-width=\"2\" />\n",
       "\n",
       "<g transform=\"rotate(-90.0,150.0,75.0) translate(150.0, 75.0)\">\n",
       "    <circle stroke=\"#63A375\" stroke-width=\"2\" fill=\"transparent\" r=\"5.5\" cx=\"0\" cy=\"0\"/>\n",
       "    <polygon points=\"0,12 2,9 -2,9\" style=\"fill:#63A375;stroke:#63A375;stroke-width:2\"/>\n",
       "</g>\n",
       "\n",
       "</svg>"
      ],
      "text/plain": [
       "<IPython.core.display.HTML object>"
      ]
     },
     "metadata": {},
     "output_type": "display_data"
    }
   ],
   "source": [
    "make_turtle()\n",
    "\n",
    "forward(50)\n",
    "left(90)\n",
    "\n",
    "forward(50)\n",
    "left(90)\n",
    "\n",
    "forward(50)\n",
    "left(90)\n",
    "\n",
    "forward(50)\n",
    "left(90)"
   ]
  },
  {
   "cell_type": "markdown",
   "id": "a7500957",
   "metadata": {},
   "source": [
    "由于相同的代码片段重复了4次，我们可以用`for`循环写地更简洁："
   ]
  },
  {
   "cell_type": "code",
   "execution_count": 10,
   "id": "cc27ad66",
   "metadata": {},
   "outputs": [
    {
     "data": {
      "text/html": [
       "<svg width=\"300\" height=\"150\">\n",
       "    <rect width=\"100%\" height=\"100%\" fill=\"#F3F3F7\" />\n",
       "\n",
       "<line x1=\"150\" y1=\"75\" x2=\"200.0\" y2=\"75.0\"\n",
       "    stroke=\"#663399\" stroke-width=\"2\" />\n",
       "<line x1=\"200.0\" y1=\"75.0\" x2=\"200.0\" y2=\"25.0\"\n",
       "    stroke=\"#663399\" stroke-width=\"2\" />\n",
       "<line x1=\"200.0\" y1=\"25.0\" x2=\"150.0\" y2=\"25.0\"\n",
       "    stroke=\"#663399\" stroke-width=\"2\" />\n",
       "<line x1=\"150.0\" y1=\"25.0\" x2=\"150.0\" y2=\"75.0\"\n",
       "    stroke=\"#663399\" stroke-width=\"2\" />\n",
       "\n",
       "<g transform=\"rotate(-90.0,150.0,75.0) translate(150.0, 75.0)\">\n",
       "    <circle stroke=\"#63A375\" stroke-width=\"2\" fill=\"transparent\" r=\"5.5\" cx=\"0\" cy=\"0\"/>\n",
       "    <polygon points=\"0,12 2,9 -2,9\" style=\"fill:#63A375;stroke:#63A375;stroke-width:2\"/>\n",
       "</g>\n",
       "\n",
       "</svg>"
      ],
      "text/plain": [
       "<IPython.core.display.HTML object>"
      ]
     },
     "metadata": {},
     "output_type": "display_data"
    }
   ],
   "source": [
    "make_turtle()\n",
    "for i in range(4):\n",
    "    forward(50)\n",
    "    left(90)"
   ]
  },
  {
   "cell_type": "markdown",
   "id": "c072ea41",
   "metadata": {
    "tags": []
   },
   "source": [
    "## 封装和泛化\n",
    "\n",
    "现在让我们将绘制方块的代码放到名为`square`的函数中。"
   ]
  },
  {
   "cell_type": "code",
   "execution_count": 11,
   "id": "ad5f1128",
   "metadata": {},
   "outputs": [],
   "source": [
    "def square():\n",
    "    for i in range(4):\n",
    "        forward(50)\n",
    "        left(90)"
   ]
  },
  {
   "cell_type": "markdown",
   "id": "0789b5d9",
   "metadata": {},
   "source": [
    "然后我们可以像这样调用函数："
   ]
  },
  {
   "cell_type": "code",
   "execution_count": 12,
   "id": "193bbe5e",
   "metadata": {},
   "outputs": [
    {
     "data": {
      "text/html": [
       "<svg width=\"300\" height=\"150\">\n",
       "    <rect width=\"100%\" height=\"100%\" fill=\"#F3F3F7\" />\n",
       "\n",
       "<line x1=\"150\" y1=\"75\" x2=\"200.0\" y2=\"75.0\"\n",
       "    stroke=\"#663399\" stroke-width=\"2\" />\n",
       "<line x1=\"200.0\" y1=\"75.0\" x2=\"200.0\" y2=\"25.0\"\n",
       "    stroke=\"#663399\" stroke-width=\"2\" />\n",
       "<line x1=\"200.0\" y1=\"25.0\" x2=\"150.0\" y2=\"25.0\"\n",
       "    stroke=\"#663399\" stroke-width=\"2\" />\n",
       "<line x1=\"150.0\" y1=\"25.0\" x2=\"150.0\" y2=\"75.0\"\n",
       "    stroke=\"#663399\" stroke-width=\"2\" />\n",
       "\n",
       "<g transform=\"rotate(-90.0,150.0,75.0) translate(150.0, 75.0)\">\n",
       "    <circle stroke=\"#63A375\" stroke-width=\"2\" fill=\"transparent\" r=\"5.5\" cx=\"0\" cy=\"0\"/>\n",
       "    <polygon points=\"0,12 2,9 -2,9\" style=\"fill:#63A375;stroke:#63A375;stroke-width:2\"/>\n",
       "</g>\n",
       "\n",
       "</svg>"
      ],
      "text/plain": [
       "<IPython.core.display.HTML object>"
      ]
     },
     "metadata": {},
     "output_type": "display_data"
    }
   ],
   "source": [
    "make_turtle()\n",
    "square()"
   ]
  },
  {
   "cell_type": "markdown",
   "id": "da905fc6",
   "metadata": {},
   "source": [
    "将一段代码包围在函数中的动作称作**封装encapsulation**。封装的好处之一是它将这段代码与一个名字联系在一起，成为某种意义上的文档；另一个好处在于，如果你重新使用这段代码，调用两次函数要比复制粘贴函数体更简洁！\n",
    "\n",
    "在目前的版本中，方块的大小始终为`50`。如果我们想要绘制不同大小的方块，我们可以将边长`length`作为参数："
   ]
  },
  {
   "cell_type": "code",
   "execution_count": 13,
   "id": "def8a5f1",
   "metadata": {},
   "outputs": [],
   "source": [
    "def square(length):\n",
    "    for i in range(4):\n",
    "        forward(length)\n",
    "        left(90)"
   ]
  },
  {
   "cell_type": "markdown",
   "id": "397fda4b",
   "metadata": {},
   "source": [
    "现在我们可以绘制不同大小的方块了："
   ]
  },
  {
   "cell_type": "code",
   "execution_count": 14,
   "id": "b283e795",
   "metadata": {},
   "outputs": [
    {
     "data": {
      "text/html": [
       "<svg width=\"300\" height=\"150\">\n",
       "    <rect width=\"100%\" height=\"100%\" fill=\"#F3F3F7\" />\n",
       "\n",
       "<line x1=\"150\" y1=\"75\" x2=\"180.0\" y2=\"75.0\"\n",
       "    stroke=\"#663399\" stroke-width=\"2\" />\n",
       "<line x1=\"180.0\" y1=\"75.0\" x2=\"180.0\" y2=\"45.0\"\n",
       "    stroke=\"#663399\" stroke-width=\"2\" />\n",
       "<line x1=\"180.0\" y1=\"45.0\" x2=\"150.0\" y2=\"45.0\"\n",
       "    stroke=\"#663399\" stroke-width=\"2\" />\n",
       "<line x1=\"150.0\" y1=\"45.0\" x2=\"150.0\" y2=\"75.0\"\n",
       "    stroke=\"#663399\" stroke-width=\"2\" />\n",
       "<line x1=\"150.0\" y1=\"75.0\" x2=\"210.0\" y2=\"75.0\"\n",
       "    stroke=\"#663399\" stroke-width=\"2\" />\n",
       "<line x1=\"210.0\" y1=\"75.0\" x2=\"210.0\" y2=\"15.0\"\n",
       "    stroke=\"#663399\" stroke-width=\"2\" />\n",
       "<line x1=\"210.0\" y1=\"15.0\" x2=\"150.0\" y2=\"15.0\"\n",
       "    stroke=\"#663399\" stroke-width=\"2\" />\n",
       "<line x1=\"150.0\" y1=\"15.0\" x2=\"150.0\" y2=\"75.0\"\n",
       "    stroke=\"#663399\" stroke-width=\"2\" />\n",
       "\n",
       "<g transform=\"rotate(-90.0,150.0,75.0) translate(150.0, 75.0)\">\n",
       "    <circle stroke=\"#63A375\" stroke-width=\"2\" fill=\"transparent\" r=\"5.5\" cx=\"0\" cy=\"0\"/>\n",
       "    <polygon points=\"0,12 2,9 -2,9\" style=\"fill:#63A375;stroke:#63A375;stroke-width:2\"/>\n",
       "</g>\n",
       "\n",
       "</svg>"
      ],
      "text/plain": [
       "<IPython.core.display.HTML object>"
      ]
     },
     "metadata": {},
     "output_type": "display_data"
    }
   ],
   "source": [
    "make_turtle()\n",
    "square(30)\n",
    "square(60)"
   ]
  },
  {
   "cell_type": "markdown",
   "id": "5a46bf64",
   "metadata": {},
   "source": [
    "给一个函数添加参数称为**泛化generalization**，因为它让函数变得更加泛用：在之前的版本，方块的大小始终不变，而现在的版本方块大小可以进行修改。\n",
    "\n",
    "如果我们添加额外的参数，我们可以让函数更加泛用。下面的函数绘制给定数量边数的正多边形："
   ]
  },
  {
   "cell_type": "code",
   "execution_count": 15,
   "id": "171974ed",
   "metadata": {},
   "outputs": [],
   "source": [
    "def polygon(n, length):\n",
    "    angle = 360 / n\n",
    "    for i in range(n):\n",
    "        forward(length)\n",
    "        left(angle)"
   ]
  },
  {
   "cell_type": "markdown",
   "id": "286d3c77",
   "metadata": {},
   "source": [
    "正`n`边形相邻边的夹角为`360 / n`度。\n",
    "\n",
    "下面的例子绘制了一个边长为`30`的正七边形："
   ]
  },
  {
   "cell_type": "code",
   "execution_count": 16,
   "id": "71f7d9d2",
   "metadata": {},
   "outputs": [
    {
     "data": {
      "text/html": [
       "<svg width=\"300\" height=\"150\">\n",
       "    <rect width=\"100%\" height=\"100%\" fill=\"#F3F3F7\" />\n",
       "\n",
       "<line x1=\"150\" y1=\"75\" x2=\"180.0\" y2=\"75.0\"\n",
       "    stroke=\"#663399\" stroke-width=\"2\" />\n",
       "<line x1=\"180.0\" y1=\"75.0\" x2=\"198.7\" y2=\"51.5\"\n",
       "    stroke=\"#663399\" stroke-width=\"2\" />\n",
       "<line x1=\"198.7\" y1=\"51.5\" x2=\"192.0\" y2=\"22.3\"\n",
       "    stroke=\"#663399\" stroke-width=\"2\" />\n",
       "<line x1=\"192.0\" y1=\"22.3\" x2=\"165.0\" y2=\"9.3\"\n",
       "    stroke=\"#663399\" stroke-width=\"2\" />\n",
       "<line x1=\"165.0\" y1=\"9.3\" x2=\"138.0\" y2=\"22.3\"\n",
       "    stroke=\"#663399\" stroke-width=\"2\" />\n",
       "<line x1=\"138.0\" y1=\"22.3\" x2=\"131.3\" y2=\"51.5\"\n",
       "    stroke=\"#663399\" stroke-width=\"2\" />\n",
       "<line x1=\"131.3\" y1=\"51.5\" x2=\"150.0\" y2=\"75.0\"\n",
       "    stroke=\"#663399\" stroke-width=\"2\" />\n",
       "\n",
       "<g transform=\"rotate(270.0,150.0,75.0) translate(150.0, 75.0)\">\n",
       "    <circle stroke=\"#63A375\" stroke-width=\"2\" fill=\"transparent\" r=\"5.5\" cx=\"0\" cy=\"0\"/>\n",
       "    <polygon points=\"0,12 2,9 -2,9\" style=\"fill:#63A375;stroke:#63A375;stroke-width:2\"/>\n",
       "</g>\n",
       "\n",
       "</svg>"
      ],
      "text/plain": [
       "<IPython.core.display.HTML object>"
      ]
     },
     "metadata": {},
     "output_type": "display_data"
    }
   ],
   "source": [
    "make_turtle()\n",
    "polygon(7, 30)"
   ]
  },
  {
   "cell_type": "markdown",
   "id": "dc0226db",
   "metadata": {},
   "source": [
    "当函数有许多实参时，很容易忘记它们是什么，或者它们的顺序是什么。在实参列表中包含形参的名字是个好主意。"
   ]
  },
  {
   "cell_type": "code",
   "execution_count": 17,
   "id": "8ff2a5f4",
   "metadata": {
    "tags": []
   },
   "outputs": [
    {
     "data": {
      "text/html": [
       "<svg width=\"300\" height=\"150\">\n",
       "    <rect width=\"100%\" height=\"100%\" fill=\"#F3F3F7\" />\n",
       "\n",
       "<line x1=\"150\" y1=\"75\" x2=\"180.0\" y2=\"75.0\"\n",
       "    stroke=\"#663399\" stroke-width=\"2\" />\n",
       "<line x1=\"180.0\" y1=\"75.0\" x2=\"198.7\" y2=\"51.5\"\n",
       "    stroke=\"#663399\" stroke-width=\"2\" />\n",
       "<line x1=\"198.7\" y1=\"51.5\" x2=\"192.0\" y2=\"22.3\"\n",
       "    stroke=\"#663399\" stroke-width=\"2\" />\n",
       "<line x1=\"192.0\" y1=\"22.3\" x2=\"165.0\" y2=\"9.3\"\n",
       "    stroke=\"#663399\" stroke-width=\"2\" />\n",
       "<line x1=\"165.0\" y1=\"9.3\" x2=\"138.0\" y2=\"22.3\"\n",
       "    stroke=\"#663399\" stroke-width=\"2\" />\n",
       "<line x1=\"138.0\" y1=\"22.3\" x2=\"131.3\" y2=\"51.5\"\n",
       "    stroke=\"#663399\" stroke-width=\"2\" />\n",
       "<line x1=\"131.3\" y1=\"51.5\" x2=\"150.0\" y2=\"75.0\"\n",
       "    stroke=\"#663399\" stroke-width=\"2\" />\n",
       "\n",
       "<g transform=\"rotate(270.0,150.0,75.0) translate(150.0, 75.0)\">\n",
       "    <circle stroke=\"#63A375\" stroke-width=\"2\" fill=\"transparent\" r=\"5.5\" cx=\"0\" cy=\"0\"/>\n",
       "    <polygon points=\"0,12 2,9 -2,9\" style=\"fill:#63A375;stroke:#63A375;stroke-width:2\"/>\n",
       "</g>\n",
       "\n",
       "</svg>"
      ],
      "text/plain": [
       "<IPython.core.display.HTML object>"
      ]
     },
     "metadata": {},
     "output_type": "display_data"
    }
   ],
   "source": [
    "make_turtle()\n",
    "polygon(n=7, length=30)"
   ]
  },
  {
   "cell_type": "markdown",
   "id": "6aa28eba",
   "metadata": {},
   "source": [
    "这些实参有时称作“具名实参”(named arguments)，因为它们包含形参名。但在Python中它们更常被称作**关键字参数keyword arguments**（不要与Python的关键字相混淆，如`for`和`def`）。\n",
    "\n",
    "这里使用了赋值运算符`=`，提醒我们实参和形参是如何工作的：当你调用函数，实参被赋值给形参。"
   ]
  },
  {
   "cell_type": "markdown",
   "id": "b10184b4",
   "metadata": {},
   "source": [
    "## Approximating a circle\n",
    "\n",
    "Now suppose we want to draw a circle.\n",
    "We can do that, approximately, by drawing a polygon with a large number of sides, so each side is small enough that it's hard to see.\n",
    "Here is a function that uses `polygon` to draw a `30`-sided polygon that approximates a circle."
   ]
  },
  {
   "cell_type": "code",
   "execution_count": 19,
   "id": "7f2a5f28",
   "metadata": {},
   "outputs": [],
   "source": [
    "import math\n",
    "\n",
    "def circle(radius):\n",
    "    circumference = 2 * math.pi * radius\n",
    "    n = 30\n",
    "    length = circumference / n\n",
    "    polygon(n, length)"
   ]
  },
  {
   "cell_type": "markdown",
   "id": "39023314",
   "metadata": {},
   "source": [
    "`circle` takes the radius of the the circle as a parameter.\n",
    "It computes `circumference`, which is the circumference of a circle with the given radius.\n",
    "`n` is the number of sides, so `circumference / n` is the length of each side.\n",
    "\n",
    "This function might take a long time to run.\n",
    "We can speed it up by calling `make_turtle` with a keyword argument called `delay` that sets the time, in seconds, the turtle waits after each step.\n",
    "The default value is `0.2` seconds -- if we set it to `0.02` it runs about 10 times faster."
   ]
  },
  {
   "cell_type": "code",
   "execution_count": 20,
   "id": "75258056",
   "metadata": {},
   "outputs": [],
   "source": [
    "make_turtle(delay=0.02)\n",
    "circle(30)"
   ]
  },
  {
   "cell_type": "markdown",
   "id": "701f9cf8",
   "metadata": {},
   "source": [
    "A limitation of this solution is that `n` is a constant, which means\n",
    "that for very big circles, the sides are too long, and for small\n",
    "circles, we waste time drawing very short sides.\n",
    "One option is to generalize the function by taking `n` as a parameter.\n",
    "But let's keep it simple for now."
   ]
  },
  {
   "cell_type": "markdown",
   "id": "c48f262c",
   "metadata": {},
   "source": [
    "## Refactoring\n",
    "\n",
    "Now let's write a more general version of `circle`, called `arc`, that takes a second parameter, `angle`, and draws an arc of a circle that spans the given angle.\n",
    "For example, if `angle` is `360` degrees, it draws a complete circle. If `angle` is `180` degrees, it draws a half circle.\n",
    "\n",
    "To write `circle`, we were able to reuse `polygon`, because a many-sided polygon is a good approximation of a circle.\n",
    "But we can't use `polygon` to write `arc`.\n",
    "\n",
    "Instead, we'll create the more general version of `polygon`, called `polyline`."
   ]
  },
  {
   "cell_type": "code",
   "execution_count": 21,
   "id": "381edd23",
   "metadata": {},
   "outputs": [],
   "source": [
    "def polyline(n, length, angle):\n",
    "    for i in range(n):\n",
    "        forward(length)\n",
    "        left(angle)"
   ]
  },
  {
   "cell_type": "markdown",
   "id": "c2b2503e",
   "metadata": {},
   "source": [
    "`polyline` takes as parameters the number of line segments to draw, `n`, the length of the segments, `length`, and the angle between them, `angle`.\n",
    "\n",
    "Now we can rewrite `polygon` to use `polyline`."
   ]
  },
  {
   "cell_type": "code",
   "execution_count": 22,
   "id": "2f4eecc0",
   "metadata": {},
   "outputs": [],
   "source": [
    "def polygon(n, length):\n",
    "    angle = 360.0 / n\n",
    "    polyline(n, length, angle)"
   ]
  },
  {
   "cell_type": "markdown",
   "id": "2714a59e",
   "metadata": {},
   "source": [
    "And we can use `polyline` to write `arc`."
   ]
  },
  {
   "cell_type": "code",
   "execution_count": 23,
   "id": "539466f6",
   "metadata": {},
   "outputs": [],
   "source": [
    "def arc(radius, angle):\n",
    "    arc_length = 2 * math.pi * radius * angle / 360\n",
    "    n = 30\n",
    "    length = arc_length / n\n",
    "    step_angle = angle / n\n",
    "    polyline(n, length, step_angle)"
   ]
  },
  {
   "cell_type": "markdown",
   "id": "3c18773c",
   "metadata": {},
   "source": [
    "`arc` is similar to `circle`, except that it computes `arc_length`, which is a fraction of the circumference of a circle.\n",
    "\n",
    "Finally, we can rewrite `circle` to use `arc`."
   ]
  },
  {
   "cell_type": "code",
   "execution_count": 24,
   "id": "8e09f456",
   "metadata": {},
   "outputs": [],
   "source": [
    "def circle(radius):\n",
    "    arc(radius,  360)"
   ]
  },
  {
   "cell_type": "markdown",
   "id": "313a357c",
   "metadata": {},
   "source": [
    "To check that these functions work as expected, we'll use them to draw something like a snail.\n",
    "With `delay=0`, the turtle runs as fast as possible."
   ]
  },
  {
   "cell_type": "code",
   "execution_count": 25,
   "id": "80d6eadd",
   "metadata": {},
   "outputs": [],
   "source": [
    "make_turtle(delay=0)\n",
    "polygon(n=20, length=9)\n",
    "arc(radius=70, angle=70)\n",
    "circle(radius=10)"
   ]
  },
  {
   "cell_type": "markdown",
   "id": "a34da3d8",
   "metadata": {},
   "source": [
    "In this example, we started with working code and reorganized it with different functions.\n",
    "Changes like this, which improve the code without changing its behavior, are called **refactoring**.\n",
    "\n",
    "If we had planned ahead, we might have written `polyline` first and avoided refactoring, but often you don't know enough at the beginning of a project to design all the functions.\n",
    "Once you start coding, you understand the problem better.\n",
    "Sometimes refactoring is a sign that you have learned something."
   ]
  },
  {
   "cell_type": "markdown",
   "id": "d18c9d16",
   "metadata": {},
   "source": [
    "## Stack diagram\n",
    "\n",
    "When we call `circle`, it calls `arc`, which calls `polyline`.\n",
    "We can use a stack diagram to show this sequence of function calls and the parameters for each one."
   ]
  },
  {
   "cell_type": "code",
   "execution_count": 26,
   "id": "1571ee71",
   "metadata": {
    "tags": []
   },
   "outputs": [],
   "source": [
    "from diagram import make_binding, make_frame, Frame, Stack\n",
    "\n",
    "frame1 = make_frame(dict(radius=30), name='circle', loc='left')\n",
    "\n",
    "frame2 = make_frame(dict(radius=30, angle=360), name='arc', loc='left', dx=1.1)\n",
    "\n",
    "frame3 = make_frame(dict(n=60, length=3.04, angle=5.8), \n",
    "                    name='polyline', loc='left', dx=1.1, offsetx=-0.27)\n",
    "\n",
    "stack = Stack([frame1, frame2, frame3], dy=-0.4)"
   ]
  },
  {
   "cell_type": "code",
   "execution_count": 27,
   "id": "f4e37360",
   "metadata": {
    "tags": []
   },
   "outputs": [],
   "source": [
    "from diagram import diagram, adjust\n",
    "\n",
    "width, height, x, y = [3.58, 1.31, 0.98, 1.06]\n",
    "ax = diagram(width, height)\n",
    "bbox = stack.draw(ax, x, y)\n",
    "#adjust(x, y, bbox)"
   ]
  },
  {
   "cell_type": "markdown",
   "id": "3160bba1",
   "metadata": {},
   "source": [
    "Notice that the value of `angle` in `polyline` is different from the value of `angle` in `arc`.\n",
    "Parameters are local, which means you can use the same parameter name in different functions; it's a different variable in each function, and it can refer to a different value. "
   ]
  },
  {
   "cell_type": "markdown",
   "id": "c23552d3",
   "metadata": {},
   "source": [
    "## A development plan\n",
    "\n",
    "A **development plan** is a process for writing programs.\n",
    "The process we used in this chapter is \"encapsulation and generalization\".\n",
    "The steps of this process are:\n",
    "\n",
    "1.  Start by writing a small program with no function definitions.\n",
    "\n",
    "2.  Once you get the program working, identify a coherent piece of it,\n",
    "    encapsulate the piece in a function and give it a name.\n",
    "\n",
    "3.  Generalize the function by adding appropriate parameters.\n",
    "\n",
    "4.  Repeat Steps 1 to 3 until you have a set of working functions.\n",
    "\n",
    "5.  Look for opportunities to improve the program by refactoring. For\n",
    "    example, if you have similar code in several places, consider\n",
    "    factoring it into an appropriately general function.\n",
    "\n",
    "This process has some drawbacks -- we will see alternatives later -- but it can be useful if you don't know ahead of time how to divide the program into functions.\n",
    "This approach lets you design as you go along."
   ]
  },
  {
   "cell_type": "markdown",
   "id": "a3b6b83d",
   "metadata": {},
   "source": [
    "The design of a function has two parts:\n",
    "\n",
    "* The **interface** is how the function is used, including its name, the parameters it takes and what the function is supposed to do.\n",
    "\n",
    "* The **implementation** is how the function does what it's supposed to do.\n",
    "\n",
    "For example, here's the first version of `circle` we wrote, which uses `polygon`."
   ]
  },
  {
   "cell_type": "code",
   "execution_count": 28,
   "id": "baf964ba",
   "metadata": {},
   "outputs": [],
   "source": [
    "def circle(radius):\n",
    "    circumference = 2 * math.pi * radius\n",
    "    n = 30\n",
    "    length = circumference / n\n",
    "    polygon(n, length)"
   ]
  },
  {
   "cell_type": "markdown",
   "id": "5d3d2e79",
   "metadata": {},
   "source": [
    "And here's the refactored version that uses `arc`."
   ]
  },
  {
   "cell_type": "code",
   "execution_count": 29,
   "id": "e2e006d5",
   "metadata": {},
   "outputs": [],
   "source": [
    "def circle(radius):\n",
    "    arc(radius,  360)"
   ]
  },
  {
   "cell_type": "markdown",
   "id": "b726f72c",
   "metadata": {},
   "source": [
    "These two functions have the same interface -- they take the same parameters and do the same thing -- but they have different implementations."
   ]
  },
  {
   "cell_type": "markdown",
   "id": "3e3bae20",
   "metadata": {
    "tags": []
   },
   "source": [
    "## Docstrings\n",
    "\n",
    "A **docstring** is a string at the beginning of a function that explains the interface (\"doc\" is short for \"documentation\").\n",
    "Here is an example:"
   ]
  },
  {
   "cell_type": "code",
   "execution_count": 30,
   "id": "b68f3682",
   "metadata": {},
   "outputs": [],
   "source": [
    "def polyline(n, length, angle):\n",
    "    \"\"\"Draws line segments with the given length and angle between them.\n",
    "    \n",
    "    n: integer number of line segments\n",
    "    length: length of the line segments\n",
    "    angle: angle between segments (in degrees)\n",
    "    \"\"\"    \n",
    "    for i in range(n):\n",
    "        forward(length)\n",
    "        left(angle)"
   ]
  },
  {
   "cell_type": "markdown",
   "id": "55b60cbc",
   "metadata": {},
   "source": [
    "By convention, docstrings are triple-quoted strings, also known as **multiline strings** because the triple quotes allow the string to span more than one line.\n",
    "\n",
    "A docstring should:\n",
    "\n",
    "* Explain concisely what the function does, without getting into the details of how it works,\n",
    "\n",
    "* Explain what effect each parameter has on the behavior of the function, and\n",
    "\n",
    "* Indicate what type each parameter should be, if it is not obvious.\n",
    "\n",
    "Writing this kind of documentation is an important part of interface design.\n",
    "A well-designed interface should be simple to explain; if you have a hard time explaining one of your functions, maybe the interface could be improved."
   ]
  },
  {
   "cell_type": "markdown",
   "id": "f1115940",
   "metadata": {},
   "source": [
    "## Debugging\n",
    "\n",
    "An interface is like a contract between a function and a caller. The\n",
    "caller agrees to provide certain arguments and the function agrees to\n",
    "do certain work.\n",
    "\n",
    "For example, `polyline` requires three arguments: `n` has to be an integer; `length` should be a positive number; and `angle` has to be a number, which is understood to be in degrees.\n",
    "\n",
    "These requirements are called **preconditions** because they are supposed to be true before the function starts executing. Conversely, conditions at the end of the function are **postconditions**.\n",
    "Postconditions include the intended effect of the function (like drawing line segments) and any side effects (like moving the turtle or making other changes).\n",
    "\n",
    "Preconditions are the responsibility of the caller. If the caller violates a precondition and the function doesn't work correctly, the bug is in the caller, not the function.\n",
    "\n",
    "If the preconditions are satisfied and the postconditions are not, the bug is in the function. If your pre- and postconditions are clear, they can help with debugging."
   ]
  },
  {
   "cell_type": "markdown",
   "id": "a4d33a70",
   "metadata": {},
   "source": [
    "## Glossary\n",
    "\n",
    "**interface design:**\n",
    "A process for designing the interface of a function, which includes the parameters it should take.\n",
    "\n",
    "**canvas:**\n",
    "A window used to display graphical elements including lines, circles, rectangles, and other shapes.\n",
    "\n",
    "**encapsulation:**\n",
    " The process of transforming a sequence of statements into a function definition.\n",
    "\n",
    "**generalization:**\n",
    " The process of replacing something unnecessarily specific (like a number) with something appropriately general (like a variable or parameter).\n",
    "\n",
    "**keyword argument:**\n",
    "An argument that includes the name of the parameter.\n",
    "\n",
    "**refactoring:**\n",
    " The process of modifying a working program to improve function interfaces and other qualities of the code.\n",
    "\n",
    "**development plan:**\n",
    "A process for writing programs.\n",
    "\n",
    "**docstring:**\n",
    " A string that appears at the top of a function definition to document the function's interface.\n",
    "\n",
    "**multiline string:**\n",
    "A string enclosed in triple quotes that can span more than one line of a program.\n",
    "\n",
    "**precondition:**\n",
    " A requirement that should be satisfied by the caller before a function starts.\n",
    "\n",
    "**postcondition:**\n",
    " A requirement that should be satisfied by the function before it ends."
   ]
  },
  {
   "cell_type": "markdown",
   "id": "0bfe2e19",
   "metadata": {},
   "source": [
    "## Exercises"
   ]
  },
  {
   "cell_type": "code",
   "execution_count": 31,
   "id": "9f94061e",
   "metadata": {
    "tags": []
   },
   "outputs": [],
   "source": [
    "# This cell tells Jupyter to provide detailed debugging information\n",
    "# when a runtime error occurs. Run it before working on the exercises.\n",
    "\n",
    "%xmode Verbose"
   ]
  },
  {
   "cell_type": "markdown",
   "id": "50ed5c38",
   "metadata": {},
   "source": [
    "For the exercises below, there are a few more turtle functions you might want to use.\n",
    "\n",
    "* `penup` lifts the turtle's imaginary pen so it doesn't leave a trail when it moves.\n",
    "\n",
    "* `pendown` puts the pen back down.\n",
    "\n",
    "The following function uses `penup` and `pendown` to move the turtle without leaving a trail."
   ]
  },
  {
   "cell_type": "code",
   "execution_count": 32,
   "id": "6f9a0106",
   "metadata": {},
   "outputs": [],
   "source": [
    "from jupyturtle import penup, pendown\n",
    "\n",
    "def jump(length):\n",
    "    \"\"\"Move forward length units without leaving a trail.\n",
    "    \n",
    "    Postcondition: Leaves the pen down.\n",
    "    \"\"\"\n",
    "    penup()\n",
    "    forward(length)\n",
    "    pendown()"
   ]
  },
  {
   "cell_type": "markdown",
   "id": "c78c1e17",
   "metadata": {},
   "source": [
    "### Exercise\n",
    "\n",
    "Write a function called `rectangle` that draws a rectangle with given side lengths.\n",
    "For example, here's a rectangle that's `80` units wide and `40` units tall."
   ]
  },
  {
   "cell_type": "code",
   "execution_count": 33,
   "id": "c54ba660",
   "metadata": {},
   "outputs": [],
   "source": [
    "# Solution goes here"
   ]
  },
  {
   "cell_type": "markdown",
   "id": "4b05078c",
   "metadata": {
    "tags": []
   },
   "source": [
    "You can use the following code to test your function."
   ]
  },
  {
   "cell_type": "code",
   "execution_count": 34,
   "id": "1311ee08",
   "metadata": {
    "tags": []
   },
   "outputs": [],
   "source": [
    "make_turtle()\n",
    "rectangle(80, 40)"
   ]
  },
  {
   "cell_type": "markdown",
   "id": "8b8faaf6",
   "metadata": {},
   "source": [
    "### Exercise\n",
    "\n",
    "Write a function called `rhombus` that draws a rhombus with a given side length and a given interior angle. For example, here's a rhombus with side length `50` and an interior angle of `60` degrees."
   ]
  },
  {
   "cell_type": "code",
   "execution_count": 35,
   "id": "3db6f106",
   "metadata": {},
   "outputs": [],
   "source": [
    "# Solution goes here"
   ]
  },
  {
   "cell_type": "markdown",
   "id": "7917956b",
   "metadata": {
    "tags": []
   },
   "source": [
    "You can use the following code to test your function."
   ]
  },
  {
   "cell_type": "code",
   "execution_count": 36,
   "id": "1d845de9",
   "metadata": {
    "tags": []
   },
   "outputs": [],
   "source": [
    "make_turtle()\n",
    "rhombus(50, 60)"
   ]
  },
  {
   "cell_type": "markdown",
   "id": "a9175a90",
   "metadata": {},
   "source": [
    "### Exercise\n",
    "\n",
    "Now write a more general function called `parallelogram` that draws a quadrilateral with parallel sides. Then rewrite `rectangle` and `rhombus` to use `parallelogram`."
   ]
  },
  {
   "cell_type": "code",
   "execution_count": 37,
   "id": "895005cb",
   "metadata": {},
   "outputs": [],
   "source": [
    "# Solution goes here"
   ]
  },
  {
   "cell_type": "code",
   "execution_count": 38,
   "id": "7e7d34b0",
   "metadata": {},
   "outputs": [],
   "source": [
    "# Solution goes here"
   ]
  },
  {
   "cell_type": "code",
   "execution_count": 39,
   "id": "481396f9",
   "metadata": {},
   "outputs": [],
   "source": [
    "# Solution goes here"
   ]
  },
  {
   "cell_type": "markdown",
   "id": "c03bd4a2",
   "metadata": {
    "tags": []
   },
   "source": [
    "You can use the following code to test your functions."
   ]
  },
  {
   "cell_type": "code",
   "execution_count": 40,
   "id": "c8dfebc9",
   "metadata": {
    "tags": []
   },
   "outputs": [],
   "source": [
    "make_turtle(width=400)\n",
    "jump(-120)\n",
    "\n",
    "rectangle(80, 40)\n",
    "jump(100)\n",
    "rhombus(50, 60)\n",
    "jump(80)\n",
    "parallelogram(80, 50, 60)"
   ]
  },
  {
   "cell_type": "markdown",
   "id": "991ab59d",
   "metadata": {},
   "source": [
    "### Exercise\n",
    "\n",
    "Write an appropriately general set of functions that can draw shapes like this.\n",
    "\n",
    "![](https://github.com/AllenDowney/ThinkPython/raw/v3/jupyturtle_pie.png)\n",
    "\n",
    "Hint: Write a function called `triangle` that draws one triangular segment, and then a function called `draw_pie` that uses `triangle`."
   ]
  },
  {
   "cell_type": "code",
   "execution_count": 41,
   "id": "8be6442e",
   "metadata": {},
   "outputs": [],
   "source": [
    "# Solution goes here"
   ]
  },
  {
   "cell_type": "code",
   "execution_count": 42,
   "id": "be1b7ed8",
   "metadata": {},
   "outputs": [],
   "source": [
    "# Solution goes here"
   ]
  },
  {
   "cell_type": "markdown",
   "id": "8702c0ad",
   "metadata": {
    "tags": []
   },
   "source": [
    "You can use the following code to test your functions."
   ]
  },
  {
   "cell_type": "code",
   "execution_count": null,
   "id": "c519ca39",
   "metadata": {
    "tags": []
   },
   "outputs": [],
   "source": [
    "turtle = make_turtle(delay=0)\n",
    "jump(-80)\n",
    "\n",
    "size = 40\n",
    "draw_pie(5, size)\n",
    "jump(2*size)\n",
    "draw_pie(6, size)\n",
    "jump(2*size)\n",
    "draw_pie(7, size)"
   ]
  },
  {
   "cell_type": "code",
   "execution_count": 51,
   "id": "89ce198a",
   "metadata": {
    "tags": []
   },
   "outputs": [],
   "source": [
    "# Solution goes here"
   ]
  },
  {
   "cell_type": "markdown",
   "id": "9c78b76f",
   "metadata": {},
   "source": [
    "### Exercise\n",
    "\n",
    "Write an appropriately general set of functions that can draw flowers like this.\n",
    "\n",
    "![](https://github.com/AllenDowney/ThinkPython/raw/v3/jupyturtle_flower.png)\n",
    "\n",
    "Hint: Use `arc` to write a function called `petal` that draws one flower petal."
   ]
  },
  {
   "cell_type": "code",
   "execution_count": 44,
   "id": "0f0e7498",
   "metadata": {},
   "outputs": [],
   "source": [
    "# Solution goes here"
   ]
  },
  {
   "cell_type": "code",
   "execution_count": 45,
   "id": "6c0d0bff",
   "metadata": {},
   "outputs": [],
   "source": [
    "# Solution goes here"
   ]
  },
  {
   "cell_type": "markdown",
   "id": "8fe06dea",
   "metadata": {
    "tags": []
   },
   "source": [
    "You can use the following code to test your functions.\n",
    "\n",
    "Because the solution draws a lot of small line segments, it tends to slow down as it runs.\n",
    "To avoid that, you can add the keyword argument `auto_render=False` to avoid drawing after every step, and then call the `render` function at the end to show the result.\n",
    "\n",
    "While you are debugging, you might want to remove `auto_render=False`."
   ]
  },
  {
   "cell_type": "code",
   "execution_count": null,
   "id": "04193da5",
   "metadata": {
    "tags": []
   },
   "outputs": [],
   "source": [
    "from jupyturtle import render\n",
    "\n",
    "turtle = make_turtle(auto_render=False)\n",
    "\n",
    "jump(-60)\n",
    "n = 7\n",
    "radius = 60\n",
    "angle = 60\n",
    "flower(n, radius, angle)\n",
    "\n",
    "jump(120)\n",
    "n = 9\n",
    "radius = 40\n",
    "angle = 85\n",
    "flower(n, radius, angle)\n",
    "\n",
    "render()"
   ]
  },
  {
   "cell_type": "code",
   "execution_count": 53,
   "id": "4cfea3b0",
   "metadata": {
    "tags": []
   },
   "outputs": [],
   "source": [
    "# Solution goes here"
   ]
  },
  {
   "cell_type": "markdown",
   "id": "9d9f35d1",
   "metadata": {},
   "source": [
    "### Ask a virtual assistant\n",
    "\n",
    "There are several modules like `jupyturtle` in Python, and the one we used in this chapter has been customized for this book.\n",
    "So if you ask a virtual assistant for help, it won't know which module to use.\n",
    "But if you give it a few examples to work with, it can probably figure it out.\n",
    "For example, try this prompt and see if it can write a function that draws a spiral:\n",
    "\n",
    "```\n",
    "The following program uses a turtle graphics module to draw a circle:\n",
    "\n",
    "from jupyturtle import make_turtle, forward, left\n",
    "import math\n",
    "\n",
    "def polygon(n, length):\n",
    "    angle = 360 / n\n",
    "    for i in range(n):\n",
    "        forward(length)\n",
    "        left(angle)\n",
    "        \n",
    "def circle(radius):\n",
    "    circumference = 2 * math.pi * radius\n",
    "    n = 30\n",
    "    length = circumference / n\n",
    "    polygon(n, length)\n",
    "    \n",
    "make_turtle(delay=0)\n",
    "circle(30)\n",
    "\n",
    "Write a function that draws a spiral.\n",
    "```"
   ]
  },
  {
   "cell_type": "markdown",
   "id": "7beb2afe",
   "metadata": {},
   "source": [
    "Keep in mind that the result might use features we have not seen yet, and it might have errors.\n",
    "Copy the code from the VA and see if you can get it working.\n",
    "If you didn't get what you wanted, try modifying the prompt.\n"
   ]
  },
  {
   "cell_type": "code",
   "execution_count": 47,
   "id": "46d3151c",
   "metadata": {},
   "outputs": [],
   "source": [
    "# Solution goes here"
   ]
  },
  {
   "cell_type": "code",
   "execution_count": 48,
   "id": "186c7fbc",
   "metadata": {},
   "outputs": [],
   "source": [
    "# Solution goes here"
   ]
  },
  {
   "cell_type": "markdown",
   "id": "a7f4edf8",
   "metadata": {
    "tags": []
   },
   "source": [
    "[Think Python: 3rd Edition](https://allendowney.github.io/ThinkPython/index.html)\n",
    "\n",
    "Copyright 2024 [Allen B. Downey](https://allendowney.com)\n",
    "\n",
    "Code license: [MIT License](https://mit-license.org/)\n",
    "\n",
    "Text license: [Creative Commons Attribution-NonCommercial-ShareAlike 4.0 International](https://creativecommons.org/licenses/by-nc-sa/4.0/)"
   ]
  }
 ],
 "metadata": {
  "celltoolbar": "Tags",
  "kernelspec": {
   "display_name": "cctbx",
   "language": "python",
   "name": "python3"
  },
  "language_info": {
   "codemirror_mode": {
    "name": "ipython",
    "version": 3
   },
   "file_extension": ".py",
   "mimetype": "text/x-python",
   "name": "python",
   "nbconvert_exporter": "python",
   "pygments_lexer": "ipython3",
   "version": "3.11.11"
  }
 },
 "nbformat": 4,
 "nbformat_minor": 5
}
