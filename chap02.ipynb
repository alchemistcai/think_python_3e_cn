{
 "cells": [
  {
   "cell_type": "markdown",
   "id": "1331faa1",
   "metadata": {},
   "source": [
    "可以在[Bookshop.org](https://bookshop.org/a/98697/9781098155438) 和\n",
    "[Amazon](https://www.amazon.com/_/dp/1098155432?smid=ATVPDKIKX0DER&_encoding=UTF8&tag=oreilly20-20&_encoding=UTF8&tag=greenteapre01-20&linkCode=ur2&linkId=e2a529f94920295d27ec8a06e757dc7c&camp=1789&creative=9325)获取纸制版和电子版的*Think Python 3e*."
   ]
  },
  {
   "cell_type": "code",
   "execution_count": 1,
   "id": "1a0a6ff4",
   "metadata": {
    "tags": []
   },
   "outputs": [],
   "source": [
    "from os.path import basename, exists\n",
    "\n",
    "def download(url):\n",
    "    filename = basename(url)\n",
    "    if not exists(filename):\n",
    "        from urllib.request import urlretrieve\n",
    "\n",
    "        local, _ = urlretrieve(url, filename)\n",
    "        print(\"Downloaded \" + str(local))\n",
    "    return filename\n",
    "\n",
    "download('https://gitee.com/regentsai/Think_Python_3e_CN/blob/master/thinkpython.py');\n",
    "download('https://gitee.com/regentsai/Think_Python_3e_CN/blob/master/diagram.py');\n",
    "\n",
    "import thinkpython"
   ]
  },
  {
   "cell_type": "markdown",
   "id": "d0286422",
   "metadata": {},
   "source": [
    "# 变量和语句\n",
    "\n",
    "在上一章，我们使用运算符书写表达式，执行算术运算。\n",
    "\n",
    "本章你将学习变量和语句，`import`语句和`print`函数。我也将介绍更多关于编程的术语，包括参数和模块。\n"
   ]
  },
  {
   "cell_type": "markdown",
   "id": "4ac44f0c",
   "metadata": {},
   "source": [
    "## 变量\n",
    "\n",
    "**变量variable**是指向一个值的名字。要创建变量，可以像这样写**赋值语句**。"
   ]
  },
  {
   "cell_type": "code",
   "execution_count": 2,
   "id": "59f6db42",
   "metadata": {},
   "outputs": [],
   "source": [
    "n = 17"
   ]
  },
  {
   "cell_type": "markdown",
   "id": "52f187f1",
   "metadata": {},
   "source": [
    "赋值语句有3部分：变量的名字在左边，等号运算符`=`在中间，表达式在右边。在上面的例子中，表达式是一个整数。在下面的例子中，表达式是一个浮点数。"
   ]
  },
  {
   "cell_type": "code",
   "execution_count": 3,
   "id": "1301f6af",
   "metadata": {},
   "outputs": [],
   "source": [
    "pi = 3.141592653589793"
   ]
  },
  {
   "cell_type": "markdown",
   "id": "3e27e65c",
   "metadata": {},
   "source": [
    "下面的例子中，表达式是一个字符串。"
   ]
  },
  {
   "cell_type": "code",
   "execution_count": 4,
   "id": "f7adb732",
   "metadata": {},
   "outputs": [],
   "source": [
    "message = 'And now for something completely different'"
   ]
  },
  {
   "cell_type": "markdown",
   "id": "cb5916ea",
   "metadata": {},
   "source": [
    "当你运行赋值语句，不会有输出。Python创建变量并给它一个值，但赋值语句没有直接可见的效果。\n",
    "\n",
    "但是，在创建变量之后，你可以把它作为一个表达式。因此我们可以像这样显示`message`的值："
   ]
  },
  {
   "cell_type": "code",
   "execution_count": 5,
   "id": "6bcc0a66",
   "metadata": {},
   "outputs": [
    {
     "data": {
      "text/plain": [
       "'And now for something completely different'"
      ]
     },
     "execution_count": 5,
     "metadata": {},
     "output_type": "execute_result"
    }
   ],
   "source": [
    "message"
   ]
  },
  {
   "cell_type": "markdown",
   "id": "e3fd81de",
   "metadata": {},
   "source": [
    "你也可以使用变量作为算术运算表达式的一部分。"
   ]
  },
  {
   "cell_type": "code",
   "execution_count": 6,
   "id": "3f11f497",
   "metadata": {},
   "outputs": [
    {
     "data": {
      "text/plain": [
       "42"
      ]
     },
     "execution_count": 6,
     "metadata": {},
     "output_type": "execute_result"
    }
   ],
   "source": [
    "n + 25"
   ]
  },
  {
   "cell_type": "code",
   "execution_count": 7,
   "id": "6b2dafea",
   "metadata": {},
   "outputs": [
    {
     "data": {
      "text/plain": [
       "6.283185307179586"
      ]
     },
     "execution_count": 7,
     "metadata": {},
     "output_type": "execute_result"
    }
   ],
   "source": [
    "2 * pi"
   ]
  },
  {
   "cell_type": "markdown",
   "id": "97396e7d",
   "metadata": {},
   "source": [
    "你也可以在调用函数时使用变量。"
   ]
  },
  {
   "cell_type": "code",
   "execution_count": 8,
   "id": "72c45ac5",
   "metadata": {},
   "outputs": [
    {
     "data": {
      "text/plain": [
       "3"
      ]
     },
     "execution_count": 8,
     "metadata": {},
     "output_type": "execute_result"
    }
   ],
   "source": [
    "round(pi)"
   ]
  },
  {
   "cell_type": "code",
   "execution_count": 9,
   "id": "6bf81c52",
   "metadata": {},
   "outputs": [
    {
     "data": {
      "text/plain": [
       "42"
      ]
     },
     "execution_count": 9,
     "metadata": {},
     "output_type": "execute_result"
    }
   ],
   "source": [
    "len(message)"
   ]
  },
  {
   "cell_type": "markdown",
   "id": "397d9da3",
   "metadata": {},
   "source": [
    "## 状态图\n",
    "\n",
    "书面表示变量的常见方式是用一个箭头将变量名称指向变量的值。"
   ]
  },
  {
   "cell_type": "code",
   "execution_count": 10,
   "id": "2c25e84e",
   "metadata": {
    "tags": []
   },
   "outputs": [],
   "source": [
    "import math\n",
    "\n",
    "from diagram import make_binding, Frame\n",
    "\n",
    "binding = make_binding(\"message\", 'And now for something completely different')\n",
    "binding2 = make_binding(\"n\", 17)\n",
    "binding3 = make_binding(\"pi\", 3.141592653589793)\n",
    "\n",
    "frame = Frame([binding2, binding3, binding])"
   ]
  },
  {
   "cell_type": "code",
   "execution_count": 11,
   "id": "5b27a635",
   "metadata": {
    "tags": []
   },
   "outputs": [
    {
     "data": {
      "image/png": "[encoded data removed]",
      "text/plain": [
       "<Figure size 362x101 with 1 Axes>"
      ]
     },
     "metadata": {},
     "output_type": "display_data"
    }
   ],
   "source": [
    "from diagram import diagram, adjust\n",
    "\n",
    "\n",
    "width, height, x, y = [3.62, 1.01, 0.6, 0.76]\n",
    "ax = diagram(width, height)\n",
    "bbox = frame.draw(ax, x, y, dy=-0.25)\n",
    "# adjust(x, y, bbox)"
   ]
  },
  {
   "cell_type": "markdown",
   "id": "6f40da93",
   "metadata": {},
   "source": [
    "这种图形称为**状态图state diagram**，显示了每个变量所处的状态。我们将在全书使用状态图，表示Python存储变量和值的模型。"
   ]
  },
  {
   "cell_type": "markdown",
   "id": "ba252c85",
   "metadata": {},
   "source": [
    "## 变量名\n",
    "\n",
    "变量名可以想多长有多长。变量名可以包含字母和数字，但不能以数字开始。大写字母是合法的，但习惯上变量只使用小写字母。\n",
    "\n",
    "变量名中唯一可以使用的半角标点符号是下划线`_`。它通常用于连接多个单词的变量名，例如`your_name`或者`airspeed_of_unladen_swallow`。\n",
    "\n",
    "如果你提供了非法的变量名，你将得到语法错误。`million!`是非法的，因为它包含标点符号。"
   ]
  },
  {
   "cell_type": "code",
   "execution_count": 12,
   "id": "ac2620ef",
   "metadata": {
    "tags": []
   },
   "outputs": [
    {
     "ename": "SyntaxError",
     "evalue": "invalid syntax (4061783710.py, line 1)",
     "output_type": "error",
     "traceback": [
      "\u001b[0;36m  Cell \u001b[0;32mIn[12], line 1\u001b[0;36m\u001b[0m\n\u001b[0;31m    million! = 1000000\u001b[0m\n\u001b[0m           ^\u001b[0m\n\u001b[0;31mSyntaxError\u001b[0m\u001b[0;31m:\u001b[0m invalid syntax\n"
     ]
    }
   ],
   "source": [
    "%%expect SyntaxError\n",
    "\n",
    "million! = 1000000"
   ]
  },
  {
   "cell_type": "markdown",
   "id": "a1cefe3e",
   "metadata": {},
   "source": [
    "`76trombones`是非法的，因为它以数字开始。"
   ]
  },
  {
   "cell_type": "code",
   "execution_count": 13,
   "id": "1a8b8382",
   "metadata": {
    "tags": []
   },
   "outputs": [
    {
     "ename": "SyntaxError",
     "evalue": "invalid decimal literal (3636686625.py, line 1)",
     "output_type": "error",
     "traceback": [
      "\u001b[0;36m  Cell \u001b[0;32mIn[13], line 1\u001b[0;36m\u001b[0m\n\u001b[0;31m    76trombones = 'big parade'\u001b[0m\n\u001b[0m     ^\u001b[0m\n\u001b[0;31mSyntaxError\u001b[0m\u001b[0;31m:\u001b[0m invalid decimal literal\n"
     ]
    }
   ],
   "source": [
    "%%expect SyntaxError\n",
    "\n",
    "76trombones = 'big parade'"
   ]
  },
  {
   "cell_type": "markdown",
   "id": "94aa7e60",
   "metadata": {},
   "source": [
    "`class`也是非法的，但错误原因可能不明显。"
   ]
  },
  {
   "cell_type": "code",
   "execution_count": 14,
   "id": "b6938851",
   "metadata": {
    "tags": []
   },
   "outputs": [
    {
     "ename": "SyntaxError",
     "evalue": "invalid syntax (3285659805.py, line 1)",
     "output_type": "error",
     "traceback": [
      "\u001b[0;36m  Cell \u001b[0;32mIn[14], line 1\u001b[0;36m\u001b[0m\n\u001b[0;31m    class = 'Self-Defence Against Fresh Fruit'\u001b[0m\n\u001b[0m          ^\u001b[0m\n\u001b[0;31mSyntaxError\u001b[0m\u001b[0;31m:\u001b[0m invalid syntax\n"
     ]
    }
   ],
   "source": [
    "%%expect SyntaxError\n",
    "\n",
    "class = 'Self-Defence Against Fresh Fruit'"
   ]
  },
  {
   "cell_type": "markdown",
   "id": "784cfb5c",
   "metadata": {},
   "source": [
    "事实上`class`是一个**关键字keyword**。关键字是python用来指定程序结构的特殊单词。\n",
    "\n",
    "关键字不能用于变量名。\n",
    "\n",
    "以下是python的完整关键字列表。"
   ]
  },
  {
   "cell_type": "markdown",
   "id": "127c07e8",
   "metadata": {},
   "source": [
    "```\n",
    "False      await      else       import     pass\n",
    "None       break      except     in         raise\n",
    "True       class      finally    is         return\n",
    "and        continue   for        lambda     try\n",
    "as         def        from       nonlocal   while\n",
    "assert     del        global     not        with\n",
    "async      elif       if         or         yield\n",
    "```"
   ]
  },
  {
   "cell_type": "code",
   "execution_count": 15,
   "id": "4a8f4b3e",
   "metadata": {
    "tags": []
   },
   "outputs": [
    {
     "data": {
      "text/plain": [
       "35"
      ]
     },
     "execution_count": 15,
     "metadata": {},
     "output_type": "execute_result"
    }
   ],
   "source": [
    "from keyword import kwlist\n",
    "\n",
    "len(kwlist)"
   ]
  },
  {
   "cell_type": "markdown",
   "id": "6f14d301",
   "metadata": {},
   "source": [
    "你不需要记住这个列表。在大多数IDE中，关键字的颜色是不一样的；如果你想用关键字定义变量名，你会发现的。"
   ]
  },
  {
   "cell_type": "markdown",
   "id": "c954a3b0",
   "metadata": {},
   "source": [
    "## 导入语句\n",
    "\n",
    "为了使用一些Python功能，你需要**导入import**它们。例如，下面的语句将导入`math`模块。"
   ]
  },
  {
   "cell_type": "code",
   "execution_count": 16,
   "id": "98c268e9",
   "metadata": {},
   "outputs": [],
   "source": [
    "import math"
   ]
  },
  {
   "cell_type": "markdown",
   "id": "ea4f75ec",
   "metadata": {},
   "source": [
    "**模块module**是变量和函数的集合。math模块提供变量`pi`，包含数学常数$\\pi$。我们可以像这样展示它的值："
   ]
  },
  {
   "cell_type": "code",
   "execution_count": 17,
   "id": "47bc17c9",
   "metadata": {},
   "outputs": [
    {
     "data": {
      "text/plain": [
       "3.141592653589793"
      ]
     },
     "execution_count": 17,
     "metadata": {},
     "output_type": "execute_result"
    }
   ],
   "source": [
    "math.pi"
   ]
  },
  {
   "cell_type": "markdown",
   "id": "c96106e4",
   "metadata": {},
   "source": [
    "要在模块中使用变量，你需要在模块名和变量名之间使用**点号运算符dot operator** (`.`)。\n",
    "\n",
    "math模块也包含函数。例如，`sqrt`计算平方根。\n",
    "\n",
    "译注：`math.sqrt`函数的定义域为非负数。cmath模块和python标准算术运算符在复数域进行计算。"
   ]
  },
  {
   "cell_type": "code",
   "execution_count": 18,
   "id": "fd1cec63",
   "metadata": {},
   "outputs": [
    {
     "data": {
      "text/plain": [
       "5.0"
      ]
     },
     "execution_count": 18,
     "metadata": {},
     "output_type": "execute_result"
    }
   ],
   "source": [
    "math.sqrt(25)"
   ]
  },
  {
   "cell_type": "markdown",
   "id": "185e94a3",
   "metadata": {},
   "source": [
    "`pow(m, n)`计算m的n次幂。"
   ]
  },
  {
   "cell_type": "code",
   "execution_count": 19,
   "id": "87316ddd",
   "metadata": {},
   "outputs": [
    {
     "data": {
      "text/plain": [
       "25.0"
      ]
     },
     "execution_count": 19,
     "metadata": {},
     "output_type": "execute_result"
    }
   ],
   "source": [
    "math.pow(5, 2)"
   ]
  },
  {
   "cell_type": "code",
   "execution_count": 20,
   "id": "6fcd96a3",
   "metadata": {},
   "outputs": [
    {
     "data": {
      "text/plain": [
       "1.2246467991473532e-16j"
      ]
     },
     "execution_count": 20,
     "metadata": {},
     "output_type": "execute_result"
    }
   ],
   "source": [
    "import cmath\n",
    "cmath.e**(1j*cmath.pi)+1"
   ]
  },
  {
   "cell_type": "markdown",
   "id": "5df25a9a",
   "metadata": {},
   "source": [
    "现在我们知道了计算幂数的两种方式：使用`math.pow`函数，或者使用幂运算符`**`。\n",
    "\n",
    "两种方式都可以，但运算符的使用频率远比对应函数高。"
   ]
  },
  {
   "cell_type": "markdown",
   "id": "6538f22b",
   "metadata": {},
   "source": [
    "## 表达式和语句\n",
    "\n",
    "目前我们看到了几种表达式。表达式可以是单个值，例如一个整数，浮点数或者字符串；表达式也可以是一组值和运算符的组合。它还可以包含变量名与函数调用。\n",
    "\n",
    "以下是一个包含这些元素的表达式。"
   ]
  },
  {
   "cell_type": "code",
   "execution_count": 21,
   "id": "7f0b92df",
   "metadata": {},
   "outputs": [
    {
     "data": {
      "text/plain": [
       "42"
      ]
     },
     "execution_count": 21,
     "metadata": {},
     "output_type": "execute_result"
    }
   ],
   "source": [
    "19 + n + round(math.pi) * 2"
   ]
  },
  {
   "cell_type": "markdown",
   "id": "000dd2ba",
   "metadata": {},
   "source": [
    "我们也看到了几种语句。**语句statement**是代码的一个单元，会产生效果，但没有值。例如，赋值语句创建一个变量并给它提供值，但赋值语句本身没有值。"
   ]
  },
  {
   "cell_type": "code",
   "execution_count": 22,
   "id": "b882c340",
   "metadata": {},
   "outputs": [],
   "source": [
    "n = 17"
   ]
  },
  {
   "cell_type": "markdown",
   "id": "cff0414b",
   "metadata": {},
   "source": [
    "与此类似，导入语句会产生效果：导入模块，让我们使用其中的变量和函数，但导入语句没有可见的效果。"
   ]
  },
  {
   "cell_type": "code",
   "execution_count": 23,
   "id": "299817d8",
   "metadata": {},
   "outputs": [],
   "source": [
    "import math"
   ]
  },
  {
   "cell_type": "markdown",
   "id": "2aeb1000",
   "metadata": {},
   "source": [
    "计算表达式的值称作**求值evaluation**。运行一个语句称作**执行execution**。"
   ]
  },
  {
   "cell_type": "markdown",
   "id": "f61601e4",
   "metadata": {},
   "source": [
    "## print函数\n",
    "\n",
    "当你对表达式求值时，结果会被显示。"
   ]
  },
  {
   "cell_type": "code",
   "execution_count": 24,
   "id": "805977c6",
   "metadata": {},
   "outputs": [
    {
     "data": {
      "text/plain": [
       "18"
      ]
     },
     "execution_count": 24,
     "metadata": {},
     "output_type": "execute_result"
    }
   ],
   "source": [
    "n + 1"
   ]
  },
  {
   "cell_type": "markdown",
   "id": "efacf0fa",
   "metadata": {},
   "source": [
    "但当你对多个表达式求值时，只有最后一个的值会被显示。"
   ]
  },
  {
   "cell_type": "code",
   "execution_count": 24,
   "id": "962e08ab",
   "metadata": {},
   "outputs": [],
   "source": [
    "n + 2\n",
    "n + 3"
   ]
  },
  {
   "cell_type": "markdown",
   "id": "cf2b991d",
   "metadata": {},
   "source": [
    "要显示多个值，你可以使用`print`函数。"
   ]
  },
  {
   "cell_type": "code",
   "execution_count": 25,
   "id": "a797e44d",
   "metadata": {},
   "outputs": [
    {
     "name": "stdout",
     "output_type": "stream",
     "text": [
      "19\n",
      "20\n"
     ]
    }
   ],
   "source": [
    "print(n+2)\n",
    "print(n+3)"
   ]
  },
  {
   "cell_type": "markdown",
   "id": "29af1f89",
   "metadata": {},
   "source": [
    "该函数对浮点数和字符串也有效。"
   ]
  },
  {
   "cell_type": "code",
   "execution_count": 26,
   "id": "73428520",
   "metadata": {},
   "outputs": [
    {
     "name": "stdout",
     "output_type": "stream",
     "text": [
      "pi的值大约是\n",
      "3.141592653589793\n"
     ]
    }
   ],
   "source": [
    "print('pi的值大约是')\n",
    "print(math.pi)"
   ]
  },
  {
   "cell_type": "markdown",
   "id": "8b4d7f4a",
   "metadata": {},
   "source": [
    "你也可以使用逗号分隔一组表达式。"
   ]
  },
  {
   "cell_type": "code",
   "execution_count": 28,
   "id": "9ad5bddd",
   "metadata": {},
   "outputs": [
    {
     "name": "stdout",
     "output_type": "stream",
     "text": [
      "pi的值大约是 3.141592653589793\n"
     ]
    }
   ],
   "source": [
    "print('pi的值大约是', math.pi)"
   ]
  },
  {
   "cell_type": "markdown",
   "id": "af447ec4",
   "metadata": {},
   "source": [
    "注意`print`函数会在多个值之间添加空格。"
   ]
  },
  {
   "cell_type": "markdown",
   "id": "7c73a2fa",
   "metadata": {},
   "source": [
    "## 参数\n",
    "\n",
    "当你调用函数时，括号中的表达式称为**参数argument**。我们目前看过的有些函数只接受1个参数，例如`int`。"
   ]
  },
  {
   "cell_type": "code",
   "execution_count": 29,
   "id": "060c60cf",
   "metadata": {},
   "outputs": [
    {
     "data": {
      "text/plain": [
       "101"
      ]
     },
     "execution_count": 29,
     "metadata": {},
     "output_type": "execute_result"
    }
   ],
   "source": [
    "int('101')"
   ]
  },
  {
   "cell_type": "markdown",
   "id": "c4ad4f2c",
   "metadata": {},
   "source": [
    "有些函数接受两个参数，例如`math.pow`。"
   ]
  },
  {
   "cell_type": "code",
   "execution_count": 30,
   "id": "2875d9e0",
   "metadata": {},
   "outputs": [
    {
     "data": {
      "text/plain": [
       "25.0"
      ]
     },
     "execution_count": 30,
     "metadata": {},
     "output_type": "execute_result"
    }
   ],
   "source": [
    "math.pow(5, 2)"
   ]
  },
  {
   "cell_type": "markdown",
   "id": "17293749",
   "metadata": {},
   "source": [
    "有些函数接受额外的可选参数。例如，`int`可以接受第2个参数，指定数字的基数。"
   ]
  },
  {
   "cell_type": "code",
   "execution_count": 31,
   "id": "43b9cf38",
   "metadata": {},
   "outputs": [
    {
     "data": {
      "text/plain": [
       "5"
      ]
     },
     "execution_count": 31,
     "metadata": {},
     "output_type": "execute_result"
    }
   ],
   "source": [
    "int('101', 2)"
   ]
  },
  {
   "cell_type": "markdown",
   "id": "c95589a1",
   "metadata": {},
   "source": [
    "基数为2的数字序列`101`对应十进制的数字5。\n",
    "\n",
    "`round`也接受可选的第2个参数，可以指定近似到小数点后几位。"
   ]
  },
  {
   "cell_type": "code",
   "execution_count": 32,
   "id": "e8a21d05",
   "metadata": {},
   "outputs": [
    {
     "data": {
      "text/plain": [
       "3.142"
      ]
     },
     "execution_count": 32,
     "metadata": {},
     "output_type": "execute_result"
    }
   ],
   "source": [
    "round(math.pi, 3)"
   ]
  },
  {
   "cell_type": "markdown",
   "id": "21e4a448",
   "metadata": {},
   "source": [
    "有些函数可以接受任意数量的参数，例如`print`。"
   ]
  },
  {
   "cell_type": "code",
   "execution_count": 33,
   "id": "724128f4",
   "metadata": {},
   "outputs": [
    {
     "name": "stdout",
     "output_type": "stream",
     "text": [
      "Any number of arguments\n"
     ]
    }
   ],
   "source": [
    "print('Any', 'number', 'of', 'arguments')"
   ]
  },
  {
   "cell_type": "markdown",
   "id": "667cff14",
   "metadata": {},
   "source": [
    "如果你调用一个函数，提供了过多参数，将产生`TypeError`。"
   ]
  },
  {
   "cell_type": "code",
   "execution_count": 34,
   "id": "69295e52",
   "metadata": {
    "tags": []
   },
   "outputs": [
    {
     "ename": "TypeError",
     "evalue": "float expected at most 1 argument, got 2",
     "output_type": "error",
     "traceback": [
      "\u001b[0;31mTypeError\u001b[0m\u001b[0;31m:\u001b[0m float expected at most 1 argument, got 2\n"
     ]
    }
   ],
   "source": [
    "%%expect TypeError\n",
    "\n",
    "float('123.0', 2)"
   ]
  },
  {
   "cell_type": "markdown",
   "id": "5103368e",
   "metadata": {},
   "source": [
    "如果你提供的参数太少，也将产生`TypeError`。"
   ]
  },
  {
   "cell_type": "code",
   "execution_count": 35,
   "id": "edec7064",
   "metadata": {
    "tags": []
   },
   "outputs": [
    {
     "ename": "TypeError",
     "evalue": "pow expected 2 arguments, got 1",
     "output_type": "error",
     "traceback": [
      "\u001b[0;31mTypeError\u001b[0m\u001b[0;31m:\u001b[0m pow expected 2 arguments, got 1\n"
     ]
    }
   ],
   "source": [
    "%%expect TypeError\n",
    "\n",
    "math.pow(2)"
   ]
  },
  {
   "cell_type": "markdown",
   "id": "5333c416",
   "metadata": {},
   "source": [
    "如果函数无法处理你提供的参数的类型，也将产生`TypeError`。"
   ]
  },
  {
   "cell_type": "code",
   "execution_count": 36,
   "id": "f86b2896",
   "metadata": {
    "tags": []
   },
   "outputs": [
    {
     "ename": "TypeError",
     "evalue": "must be real number, not str",
     "output_type": "error",
     "traceback": [
      "\u001b[0;31mTypeError\u001b[0m\u001b[0;31m:\u001b[0m must be real number, not str\n"
     ]
    }
   ],
   "source": [
    "%%expect TypeError\n",
    "\n",
    "math.sqrt('123')"
   ]
  },
  {
   "cell_type": "markdown",
   "id": "548828af",
   "metadata": {},
   "source": [
    "在你开始学习的时候这种检查可能很恼人，但它会帮助你检测和纠正错误。"
   ]
  },
  {
   "cell_type": "markdown",
   "id": "be2b6a9b",
   "metadata": {},
   "source": [
    "## 注释\n",
    "\n",
    "当程序变得更大更复杂，它们会变得更难阅读。形式语言很精密，通常看到一段代码很难明白它在干什么以及为什么这样做。\n",
    "\n",
    "出于这个原因，将注解加入你的程序，用自然语言解释程序在干什么是个好主意。这些注解称为**注释comments**，以`#`符号作为开端。"
   ]
  },
  {
   "cell_type": "code",
   "execution_count": 37,
   "id": "607893a6",
   "metadata": {},
   "outputs": [],
   "source": [
    "# 42分42秒对应的秒数\n",
    "seconds = 42 * 60 + 42"
   ]
  },
  {
   "cell_type": "markdown",
   "id": "519c83a9",
   "metadata": {},
   "source": [
    "在这个例子里，注释单独处于一行。你也可以将注释放在代码行的末尾："
   ]
  },
  {
   "cell_type": "code",
   "execution_count": 37,
   "id": "615a11e7",
   "metadata": {},
   "outputs": [],
   "source": [
    "miles = 10 / 1.61     # 10km对应的英里数"
   ]
  },
  {
   "cell_type": "markdown",
   "id": "87c8d10c",
   "metadata": {},
   "source": [
    "从`#`开始到该行结尾的所有内容都被忽略，它对程序的执行没有影响。\n",
    "\n",
    "注释在说明代码中不明显的功能时最有用。可以合理地假定阅读者能明白这段代码*是什么*；而解释代码*为什么*这么设计会更有用。\n",
    "\n",
    "下面的注释是对代码的重复，没有用处："
   ]
  },
  {
   "cell_type": "code",
   "execution_count": 39,
   "id": "cc7fe2e6",
   "metadata": {},
   "outputs": [],
   "source": [
    "v = 8     # 将8赋值给v"
   ]
  },
  {
   "cell_type": "markdown",
   "id": "eb83b14a",
   "metadata": {},
   "source": [
    "下面的注释包含了代码中没有的有用信息："
   ]
  },
  {
   "cell_type": "code",
   "execution_count": 40,
   "id": "7c93a00d",
   "metadata": {},
   "outputs": [],
   "source": [
    "v = 8     # 速度，单位为英里/小时"
   ]
  },
  {
   "cell_type": "markdown",
   "id": "6cd60d4f",
   "metadata": {},
   "source": [
    "好的变量名可以减少注释的需求，但过长的变量名将让复杂的表达式难以阅读，所以需要权衡。"
   ]
  },
  {
   "cell_type": "markdown",
   "id": "7d61e416",
   "metadata": {},
   "source": [
    "## 调试\n",
    "\n",
    "程序中会出现3种错误：语法错误，运行时错误和语义错误。为了更快地处理它们，有必要分辨它们。\n",
    "\n",
    "- **语法错误Syntax error**：“语法”指的是代码中的结构和关于结构的规则。如果程序中出现语法错误，Python不会运行程序。它将立刻展示错误信息。\n",
    "- **运行时错误Runtime error**：如果程序中没有语法错误，就可以运行。但在运行过程中如果有些东西出错，Python将显示错误信息并终止程序。这种类型称为运行时错误。它也叫作**异常exception**，因为有些意料之外的事情发生了。\n",
    "- **语义错误Semantic error**：“语义”即含义。如果程序中出现语义错误，程序能够运行且不会产生错误信息，但不会按你的意愿执行。识别语义错误可能很棘手，因为需要你回过头去观察程序输出并尝试理解它做了什么。"
   ]
  },
  {
   "cell_type": "markdown",
   "id": "6cd52721",
   "metadata": {},
   "source": [
    "我们可以看到，一个非法的变量名将导致语法错误。"
   ]
  },
  {
   "cell_type": "code",
   "execution_count": 41,
   "id": "86f07f6e",
   "metadata": {
    "tags": []
   },
   "outputs": [
    {
     "ename": "SyntaxError",
     "evalue": "invalid syntax (4061783710.py, line 1)",
     "output_type": "error",
     "traceback": [
      "\u001b[0;36m  Cell \u001b[0;32mIn[41], line 1\u001b[0;36m\u001b[0m\n\u001b[0;31m    million! = 1000000\u001b[0m\n\u001b[0m           ^\u001b[0m\n\u001b[0;31mSyntaxError\u001b[0m\u001b[0;31m:\u001b[0m invalid syntax\n"
     ]
    }
   ],
   "source": [
    "%%expect SyntaxError\n",
    "\n",
    "million! = 1000000"
   ]
  },
  {
   "cell_type": "markdown",
   "id": "b8971d33",
   "metadata": {},
   "source": [
    "如果你给运算符提供不支持的类型，将产生运行时错误。"
   ]
  },
  {
   "cell_type": "code",
   "execution_count": 42,
   "id": "682395ea",
   "metadata": {
    "tags": []
   },
   "outputs": [
    {
     "ename": "TypeError",
     "evalue": "unsupported operand type(s) for /: 'str' and 'int'",
     "output_type": "error",
     "traceback": [
      "\u001b[0;31mTypeError\u001b[0m\u001b[0;31m:\u001b[0m unsupported operand type(s) for /: 'str' and 'int'\n"
     ]
    }
   ],
   "source": [
    "%%expect TypeError\n",
    "\n",
    "'126' / 3"
   ]
  },
  {
   "cell_type": "markdown",
   "id": "e51fa6e2",
   "metadata": {},
   "source": [
    "最后是一个语义错误的例子。假设我们想要计算`1`和`3`的平均值，但我们忘记了运算符的优先级，像这样写："
   ]
  },
  {
   "cell_type": "code",
   "execution_count": 43,
   "id": "2ff25bda",
   "metadata": {},
   "outputs": [
    {
     "data": {
      "text/plain": [
       "2.5"
      ]
     },
     "execution_count": 43,
     "metadata": {},
     "output_type": "execute_result"
    }
   ],
   "source": [
    "1 + 3 / 2"
   ]
  },
  {
   "cell_type": "markdown",
   "id": "0828afc0",
   "metadata": {},
   "source": [
    "当对这个表达式求值时，不会产生错误信息，因此没有语法错误或者运行时错误。但是产生的结果并非`1`和`3`的平均值，因此这个程序不正确。这是一个语义错误，因为程序没有按照我们的意图运行。"
   ]
  },
  {
   "cell_type": "markdown",
   "id": "07396f3d",
   "metadata": {},
   "source": [
    "## 术语表\n",
    "\n",
    "- **变量variable**：指向一个值的名字。\n",
    "- **赋值语句assignment statement**：将一个值与变量进行绑定的语句。\n",
    "- **状态图state diagram**：表示一组变量和他们指向的值的图形化表示方式。\n",
    "- **关键字keyword**：用于指定程序结构的特殊单词。\n",
    "- **导入语句import statement**：读取模块文件，让我们可以使用其中变量和函数的语句。\n",
    "- **模块module**：包含Python代码的文件，包含函数定义和其他语句。\n",
    "- **点运算符dot operator**：`.`运算符，通常用来获取模块中的函数和变量，语法为`模块.函数名`。\n",
    "- **求值evaluate**：执行表达式中的运算，计算表达式的值\n",
    "- **语句statement**：表示一个命令或者动作的若干行代码。\n",
    "- **执行execute**：运行语句，按语句的要求进行操作。\n",
    "- **参数argument**：当函数被调用时，提供给函数的值。\n",
    "- **注释comment**：程序中包含的文本，提供关于程序的信息，但对程序的执行没有影响。\n",
    "- **运行时错误runtime error**：导致程序在运行期间显示错误信息并退出程序的错误。\n",
    "- **异常exception**：运行程序时被检测出来的错误。\n",
    "- **语义错误semantic error**：导致程序执行错误，但是不会显示错误信息的错误。"
   ]
  },
  {
   "cell_type": "markdown",
   "id": "70ee273d",
   "metadata": {},
   "source": [
    "## 练习"
   ]
  },
  {
   "cell_type": "code",
   "execution_count": 44,
   "id": "c9e6cab4",
   "metadata": {
    "tags": []
   },
   "outputs": [
    {
     "name": "stdout",
     "output_type": "stream",
     "text": [
      "Exception reporting mode: Verbose\n"
     ]
    }
   ],
   "source": [
    "# 这个单元格让Jupyter在出现运行时故障时提供更多调试信息。\n",
    "# 在进行练习前先运行本单元格。\n",
    "\n",
    "%xmode Verbose"
   ]
  },
  {
   "cell_type": "markdown",
   "id": "7256a9b2",
   "metadata": {},
   "source": [
    "### 询问虚拟助手\n",
    "\n",
    "我鼓励你们使用虚拟助手学习本章中的任何话题。\n",
    "\n",
    "如果你好奇我列出的关键字，你可以询问“为什么class是一个关键字？”或者“为什么变量名不能是关键字？”\n",
    "\n",
    "你可能注意到`int`, `float`和`str`不是Python的关键字。这些是表示类型的变量，而且可以当作函数使用。因此自定义一个与它们同名的变量或者函数是*合法*的，但是强烈不推荐这种方式。询问虚拟助手“使用int，float,str作为变量名会导致哪些问题？”\n",
    "\n",
    "另外可以询问“Python内建(built-in)的函数有哪些？”如果你对某些函数好奇，进一步询问。\n",
    "\n",
    "本章我们导入`math`模块，使用了其中的部分函数和变量。询问“math模块中有哪些变量和函数？”以及“除了math模块，哪些模块被认为是Python的核心模块？”"
   ]
  },
  {
   "cell_type": "markdown",
   "id": "f92afde0",
   "metadata": {},
   "source": [
    "### 练习\n",
    "\n",
    "正如我前一章的建议所说，当你学习新功能时，你应该故意制造错误，看看会发生什么。\n",
    "\n",
    "- `n = 17`是合法的语句。那么`17 = n`呢?\n",
    "- `x = y = 1`是合法的语句吗?\n",
    "- 在某些语言中每个语句以分号`;`作为结尾。如果你在Python语句的结尾添加分号会怎样？\n",
    "- 如果在语句的结尾添加句点会怎样？\n",
    "\n",
    "- 如果你拼错了模块的名字，导入了`maath`会怎样？"
   ]
  },
  {
   "cell_type": "markdown",
   "id": "9d562609",
   "metadata": {},
   "source": [
    "### 练习\n",
    "\n",
    "将Python解释器当成计算器，进行练习：\n",
    "\n",
    "\n",
    "**第1部分**：半径为$r$的球体体积为$\\frac{4}{3} \\pi r^3$。半径为5的球体体积为多少？用变量`radius`存储半径，将体积计算结果赋值给变量`volume`。\n",
    "\n",
    "显示体积结果。添加注释，说明`radius`的单位为厘米，`volume`的单位为立方厘米。"
   ]
  },
  {
   "cell_type": "markdown",
   "id": "6449b12b",
   "metadata": {},
   "source": [
    "**第2部分**：对于任意的$x$, $(\\cos x)^2 + (\\sin x)^2 = 1$。让我们看看对于指定的$x$，例如42,该等式是否成立。\n",
    "\n",
    "创建一个变量`x`，将42赋值给这个变量。然后使用`math.cos`和`math.sin`计算$x$的正弦值和余弦值，并将它们的平方相加。\n",
    "\n",
    "运算结果应该接近1。它可能不是刚好为1，因为浮点数的算术不是精确值，它只能近似正确。"
   ]
  },
  {
   "cell_type": "markdown",
   "id": "4986801f",
   "metadata": {},
   "source": [
    "**第3部分**：除了`pi`,`math`模块还定义了自然常数`e`。如果你不熟悉，可以询问\"`math.e`是什么？\"。现在用3种方式计算$e^2$:\n",
    "\n",
    "- 使用`math.e`和幂运算符(`**`)。\n",
    "- 使用`math.pow`计算`math.e`的`2`次方.\n",
    "- 使用`math.exp`，该函数接受参数$x$，计算$e^x$。\n",
    "\n",
    "你可能会发现最后一个结果与其他两个有点不同。尝试看看你是否能发现，哪个是正确的。"
   ]
  },
  {
   "cell_type": "markdown",
   "id": "a7f4edf8",
   "metadata": {
    "tags": []
   },
   "source": [
    "[Think Python: 3rd Edition](https://allendowney.github.io/ThinkPython/index.html)\n",
    "\n",
    "Copyright 2024 [Allen B. Downey](https://allendowney.com)\n",
    "\n",
    "Code license: [MIT License](https://mit-license.org/)\n",
    "\n",
    "Text license: [Creative Commons Attribution-NonCommercial-ShareAlike 4.0 International](https://creativecommons.org/licenses/by-nc-sa/4.0/)"
   ]
  }
 ],
 "metadata": {
  "celltoolbar": "Tags",
  "kernelspec": {
   "display_name": "cctbx",
   "language": "python",
   "name": "python3"
  },
  "language_info": {
   "codemirror_mode": {
    "name": "ipython",
    "version": 3
   },
   "file_extension": ".py",
   "mimetype": "text/x-python",
   "name": "python",
   "nbconvert_exporter": "python",
   "pygments_lexer": "ipython3",
   "version": "3.11.11"
  }
 },
 "nbformat": 4,
 "nbformat_minor": 5
}
