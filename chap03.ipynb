{
 "cells": [
  {
   "cell_type": "markdown",
   "id": "1331faa1",
   "metadata": {},
   "source": [
    "可以在[Bookshop.org](https://bookshop.org/a/98697/9781098155438) 和\n",
    "[Amazon](https://www.amazon.com/_/dp/1098155432?smid=ATVPDKIKX0DER&_encoding=UTF8&tag=oreilly20-20&_encoding=UTF8&tag=greenteapre01-20&linkCode=ur2&linkId=e2a529f94920295d27ec8a06e757dc7c&camp=1789&creative=9325)获取纸制版和电子版的*Think Python 3e*."
   ]
  },
  {
   "cell_type": "code",
   "execution_count": 1,
   "id": "103cbe3c",
   "metadata": {
    "tags": []
   },
   "outputs": [],
   "source": [
    "from os.path import basename, exists\n",
    "\n",
    "def download(url):\n",
    "    filename = basename(url)\n",
    "    if not exists(filename):\n",
    "        from urllib.request import urlretrieve\n",
    "\n",
    "        local, _ = urlretrieve(url, filename)\n",
    "        print(\"Downloaded \" + str(local))\n",
    "    return filename\n",
    "\n",
    "download('https://gitee.com/regentsai/Think_Python_3e_CN/blob/master/thinkpython.py');\n",
    "download('https://gitee.com/regentsai/Think_Python_3e_CN/blob/master/diagram.py');\n",
    "\n",
    "import thinkpython"
   ]
  },
  {
   "cell_type": "markdown",
   "id": "6bd858a8",
   "metadata": {},
   "source": [
    "# 第3章：函数\n",
    "\n",
    "在上一章，我们使用了几个Python提供的函数，例如`int`和`float`；以及`math`模块提供的几个函数，例如`sqrt`和`pow`。\n",
    "\n",
    "在本章，你将学习如何创建自己的函数并运行它们。我们也将看到一个函数如何调用另一个函数。例如，我们将显示Monty Python歌曲的歌词。这些简单的示例展示了重要的特性：编写自己的函数是编程的基础。"
   ]
  },
  {
   "cell_type": "markdown",
   "id": "b4ea99c5",
   "metadata": {},
   "source": [
    "## 定义新函数\n",
    "\n",
    "**函数定义function definition**指定新函数的名字，以及函数调用时运行的语句序列。下面是一个例子："
   ]
  },
  {
   "cell_type": "code",
   "execution_count": 2,
   "id": "d28f5c1a",
   "metadata": {},
   "outputs": [],
   "source": [
    "def print_lyrics():\n",
    "    print(\"I'm a lumberjack, and I'm okay.\")\n",
    "    print(\"I sleep all night and I work all day.\")"
   ]
  },
  {
   "cell_type": "markdown",
   "id": "0174fc41",
   "metadata": {},
   "source": [
    "`def`是表示函数定义的关键字。上例定义的函数名是`print_lyrics`。所有合法的变量名都是合法的函数名。\n",
    "\n",
    "函数名后空的括号表示这个函数不接受任何参数。\n",
    "\n",
    "函数定义的第一行称为函数的**头部header**，剩余部分称为函数的**主体body**。函数头必须以冒号结尾，函数体必须缩进。通常缩进是4个空格。上例中函数体是两个print语句；总体而言，函数体可以包含任意数量任意类型的语句。\n",
    "\n",
    "定义函数将创建一个**函数对象function object**，我们可以像这样显示该对象。"
   ]
  },
  {
   "cell_type": "code",
   "execution_count": 3,
   "id": "2850a402",
   "metadata": {},
   "outputs": [
    {
     "data": {
      "text/plain": [
       "<function __main__.print_lyrics()>"
      ]
     },
     "execution_count": 3,
     "metadata": {},
     "output_type": "execute_result"
    }
   ],
   "source": [
    "print_lyrics"
   ]
  },
  {
   "cell_type": "markdown",
   "id": "12bd0879",
   "metadata": {},
   "source": [
    "输出表明`print_lyrics`是不接受参数的函数。`__main__`是包含`print_lyrics`函数的模块名。\n",
    "\n",
    "译注：在最简单的情况下，`__main__`对应打开Python之后所处的环境。\n",
    "\n",
    "现在我们定义了一个函数，我们可以像调用内建函数一样调用它。"
   ]
  },
  {
   "cell_type": "code",
   "execution_count": 4,
   "id": "9a048657",
   "metadata": {},
   "outputs": [
    {
     "name": "stdout",
     "output_type": "stream",
     "text": [
      "I'm a lumberjack, and I'm okay.\n",
      "I sleep all night and I work all day.\n"
     ]
    }
   ],
   "source": [
    "print_lyrics()"
   ]
  },
  {
   "cell_type": "markdown",
   "id": "8f0fc45d",
   "metadata": {},
   "source": [
    "当运行函数时，将执行函数体中的语句，显示“The Lumberjack Song”中的前两行歌词。"
   ]
  },
  {
   "cell_type": "markdown",
   "id": "6d35193e",
   "metadata": {},
   "source": [
    "## 参数\n",
    "\n",
    "我们看到的有些函数是需要参数的；例如，当你调用`abs`函数，你需要传递一个数字作为参数；有些函数接受多个参数，例如`math.pow`接受两个参数，底数和指数。\n",
    "\n",
    "下面是接受一个参数的函数定义："
   ]
  },
  {
   "cell_type": "code",
   "execution_count": 5,
   "id": "e5d00488",
   "metadata": {},
   "outputs": [],
   "source": [
    "def print_twice(string):\n",
    "    print(string)\n",
    "    print(string)"
   ]
  },
  {
   "cell_type": "markdown",
   "id": "1716e3dc",
   "metadata": {},
   "source": [
    "函数头括号中的变量称为**形式参数parameter**(简称形参)。当调用函数时，实际参数(argument，简称实参)的值被赋值给形参(parameter)。\n",
    "\n",
    "译注：**形式参数**是在函数定义时抽象的变量名，为表示函数体内部的逻辑而存在；**实际参数**是在函数调用时提供的变量，有实际的值。本章将明确区分两者，在后续章节不导致歧义的情况下统称参数。\n",
    "\n",
    "例如，我们可以像下面这样调用`print_twice`。"
   ]
  },
  {
   "cell_type": "code",
   "execution_count": 6,
   "id": "a3ad5f46",
   "metadata": {},
   "outputs": [
    {
     "name": "stdout",
     "output_type": "stream",
     "text": [
      "Dennis Moore, \n",
      "Dennis Moore, \n"
     ]
    }
   ],
   "source": [
    "print_twice('Dennis Moore, ')"
   ]
  },
  {
   "cell_type": "markdown",
   "id": "f02be6d2",
   "metadata": {},
   "source": [
    "这与将实参赋值给形参，然后调用函数体中的语句是相同的效果。\n",
    "\n",
    "译注:想象我们现在在`print_twice`的内部："
   ]
  },
  {
   "cell_type": "code",
   "execution_count": 7,
   "id": "042dfec1",
   "metadata": {},
   "outputs": [
    {
     "name": "stdout",
     "output_type": "stream",
     "text": [
      "Dennis Moore, \n",
      "Dennis Moore, \n"
     ]
    }
   ],
   "source": [
    "string = 'Dennis Moore, '\n",
    "print(string)\n",
    "print(string)"
   ]
  },
  {
   "cell_type": "markdown",
   "id": "ea8b8b6e",
   "metadata": {},
   "source": [
    "你也可以将变量作为实参，直接传递给函数。"
   ]
  },
  {
   "cell_type": "code",
   "execution_count": 8,
   "id": "8f078ad0",
   "metadata": {},
   "outputs": [
    {
     "name": "stdout",
     "output_type": "stream",
     "text": [
      "Dennis Moore, \n",
      "Dennis Moore, \n"
     ]
    }
   ],
   "source": [
    "line = 'Dennis Moore, '\n",
    "print_twice(line)"
   ]
  },
  {
   "cell_type": "markdown",
   "id": "5c1884ad",
   "metadata": {},
   "source": [
    "在上例中，`line`的值被赋值给形参`string`。"
   ]
  },
  {
   "cell_type": "markdown",
   "id": "a3e5a790",
   "metadata": {},
   "source": [
    "## 调用函数\n",
    "\n",
    "一旦定义了函数，你可以在另一个函数中使用它。我们将编写函数,打印“The Spam Song”(<https://www.songfacts.com/lyrics/monty-python/the-spam-song>)的歌词。\n",
    "\n",
    "> Spam, Spam, Spam, Spam,  \n",
    "> Spam, Spam, Spam, Spam,  \n",
    "> Spam, Spam,  \n",
    "> (Lovely Spam, Wonderful Spam!)  \n",
    "> Spam, Spam,\n",
    "\n",
    "我们将使用下面的函数实现，它接受两个形参。"
   ]
  },
  {
   "cell_type": "code",
   "execution_count": 9,
   "id": "e86bb32c",
   "metadata": {},
   "outputs": [],
   "source": [
    "def repeat(word, n):\n",
    "    print(word * n)"
   ]
  },
  {
   "cell_type": "markdown",
   "id": "bdd4daa4",
   "metadata": {},
   "source": [
    "我们可以使用`repeat`函数打印歌词的第一行。"
   ]
  },
  {
   "cell_type": "code",
   "execution_count": 10,
   "id": "ec117999",
   "metadata": {},
   "outputs": [
    {
     "name": "stdout",
     "output_type": "stream",
     "text": [
      "Spam, Spam, Spam, Spam, \n"
     ]
    }
   ],
   "source": [
    "spam = 'Spam, '\n",
    "repeat(spam, 4)"
   ]
  },
  {
   "cell_type": "markdown",
   "id": "c6f81e09",
   "metadata": {},
   "source": [
    "要显示前两行，我们可以定义一个新函数，使用到`repeat`函数。"
   ]
  },
  {
   "cell_type": "code",
   "execution_count": 11,
   "id": "3731ffd8",
   "metadata": {},
   "outputs": [],
   "source": [
    "def first_two_lines():\n",
    "    repeat(spam, 4)\n",
    "    repeat(spam, 4)"
   ]
  },
  {
   "cell_type": "markdown",
   "id": "8058ffe4",
   "metadata": {},
   "source": [
    "然后调用它："
   ]
  },
  {
   "cell_type": "code",
   "execution_count": 12,
   "id": "6792e63b",
   "metadata": {},
   "outputs": [
    {
     "name": "stdout",
     "output_type": "stream",
     "text": [
      "Spam, Spam, Spam, Spam, \n",
      "Spam, Spam, Spam, Spam, \n"
     ]
    }
   ],
   "source": [
    "first_two_lines()"
   ]
  },
  {
   "cell_type": "markdown",
   "id": "07ca432a",
   "metadata": {},
   "source": [
    "要显示后3行，我们可以定义另一个函数，也用到`repeat`函数："
   ]
  },
  {
   "cell_type": "code",
   "execution_count": 13,
   "id": "2dcb020a",
   "metadata": {},
   "outputs": [],
   "source": [
    "def last_three_lines():\n",
    "    repeat(spam, 2)\n",
    "    print('(Lovely Spam, Wonderful Spam!)')\n",
    "    repeat(spam, 2)"
   ]
  },
  {
   "cell_type": "code",
   "execution_count": 14,
   "id": "9ff8c60e",
   "metadata": {},
   "outputs": [
    {
     "name": "stdout",
     "output_type": "stream",
     "text": [
      "Spam, Spam, \n",
      "(Lovely Spam, Wonderful Spam!)\n",
      "Spam, Spam, \n"
     ]
    }
   ],
   "source": [
    "last_three_lines()"
   ]
  },
  {
   "cell_type": "markdown",
   "id": "d6456a19",
   "metadata": {},
   "source": [
    "最后，我们可以将这些函数聚集到一个函数中，打印完整的歌词："
   ]
  },
  {
   "cell_type": "code",
   "execution_count": 15,
   "id": "78bf3a7b",
   "metadata": {},
   "outputs": [],
   "source": [
    "def print_verse():\n",
    "    first_two_lines()\n",
    "    last_three_lines()"
   ]
  },
  {
   "cell_type": "code",
   "execution_count": 16,
   "id": "ba5da431",
   "metadata": {},
   "outputs": [
    {
     "name": "stdout",
     "output_type": "stream",
     "text": [
      "Spam, Spam, Spam, Spam, \n",
      "Spam, Spam, Spam, Spam, \n",
      "Spam, Spam, \n",
      "(Lovely Spam, Wonderful Spam!)\n",
      "Spam, Spam, \n"
     ]
    }
   ],
   "source": [
    "print_verse()"
   ]
  },
  {
   "cell_type": "markdown",
   "id": "d088fe68",
   "metadata": {},
   "source": [
    "当我们运行`print_verse`时，它会调用`first_two_lines`；`first_two_lines`会调用`repeat`；`repeat`会调用`print`。\n",
    "\n",
    "当然我们可以用更少的函数做相同的事，但这个例子的要点在于展示如何让若干函数一起工作。"
   ]
  },
  {
   "cell_type": "markdown",
   "id": "c3b16e3f",
   "metadata": {},
   "source": [
    "## 重复\n",
    "\n",
    "如果我们想要显示更多的歌词，我们可以使用`for`语句。下面是一个简单的例子。"
   ]
  },
  {
   "cell_type": "code",
   "execution_count": 17,
   "id": "29b7eff3",
   "metadata": {},
   "outputs": [
    {
     "name": "stdout",
     "output_type": "stream",
     "text": [
      "0\n",
      "1\n"
     ]
    }
   ],
   "source": [
    "for i in range(2):\n",
    "    print(i)"
   ]
  },
  {
   "cell_type": "markdown",
   "id": "bf320549",
   "metadata": {},
   "source": [
    "第一行是以冒号结尾的循环头部，剩余行是必须缩进的循环主体。\n",
    "\n",
    "头部以关键字`for`开始，然后是新的变量`i`，然后是新的关键字`in`。头部使用`range`函数创建包含`0`和`1`的序列，当我们进行计数时，我们通常从`0`开始。\n",
    "\n",
    "当执行`for`语句时，它将`range`中的第1个值传递给`i`，然后运行循环体中的`print`函数，将`0`显示出来；\n",
    "\n",
    "到达循环体的结尾时，它重新回到头部，因此这个语句称作**循环loop**。\n",
    "\n",
    "循环中的第2次该语句将`range`的下一个值传递给`i`，然后显示`1`。然后由于`1`是`range`的最后一个值，该循环结束。\n",
    "\n",
    "在下面，我们使用`for`循环语句打印两次歌词："
   ]
  },
  {
   "cell_type": "code",
   "execution_count": 18,
   "id": "038ad592",
   "metadata": {},
   "outputs": [
    {
     "name": "stdout",
     "output_type": "stream",
     "text": [
      "Verse 0\n",
      "Spam, Spam, Spam, Spam, \n",
      "Spam, Spam, Spam, Spam, \n",
      "Spam, Spam, \n",
      "(Lovely Spam, Wonderful Spam!)\n",
      "Spam, Spam, \n",
      "\n",
      "Verse 1\n",
      "Spam, Spam, Spam, Spam, \n",
      "Spam, Spam, Spam, Spam, \n",
      "Spam, Spam, \n",
      "(Lovely Spam, Wonderful Spam!)\n",
      "Spam, Spam, \n",
      "\n"
     ]
    }
   ],
   "source": [
    "for i in range(2):\n",
    "    print(\"Verse\", i)\n",
    "    print_verse()\n",
    "    print()"
   ]
  },
  {
   "cell_type": "markdown",
   "id": "88a46733",
   "metadata": {},
   "source": [
    "你可以将`for`循环语句放在函数中。例如，`print_n_verses`接受形参`n`，显示n次歌词。n必须是整数。"
   ]
  },
  {
   "cell_type": "code",
   "execution_count": 19,
   "id": "8887637a",
   "metadata": {},
   "outputs": [],
   "source": [
    "def print_n_verses(n):\n",
    "    for i in range(n):\n",
    "        print_verse()\n",
    "        print()"
   ]
  },
  {
   "cell_type": "markdown",
   "id": "ad8060fe",
   "metadata": {},
   "source": [
    "在上例中，我们在循环中不使用变量`i`，但是在循环头部中必须有一个变量名。"
   ]
  },
  {
   "cell_type": "markdown",
   "id": "b320ec90",
   "metadata": {},
   "source": [
    "## 变量和形参是局部的\n",
    "\n",
    "当你在函数内部创建变量，它是**局部的local**，即这个变量只存在于函数内部。例如，下面的函数接受两个参数，拼接后打印两次。"
   ]
  },
  {
   "cell_type": "code",
   "execution_count": 20,
   "id": "0db8408e",
   "metadata": {},
   "outputs": [],
   "source": [
    "def cat_twice(part1, part2):\n",
    "    cat = part1 + part2\n",
    "    print_twice(cat)"
   ]
  },
  {
   "cell_type": "markdown",
   "id": "3a35a6d0",
   "metadata": {},
   "source": [
    "下面是一个例子："
   ]
  },
  {
   "cell_type": "code",
   "execution_count": 21,
   "id": "1c556e48",
   "metadata": {},
   "outputs": [
    {
     "name": "stdout",
     "output_type": "stream",
     "text": [
      "Always look on the bright side of life.\n",
      "Always look on the bright side of life.\n"
     ]
    }
   ],
   "source": [
    "line1 = 'Always look on the '\n",
    "line2 = 'bright side of life.'\n",
    "cat_twice(line1, line2)"
   ]
  },
  {
   "cell_type": "markdown",
   "id": "4ab4e008",
   "metadata": {},
   "source": [
    "当执行`cat_twice`时，将创建局部变量`cat`，该变量在函数结束时被销毁。如果我们尝试显示它，将产生`NameError`。"
   ]
  },
  {
   "cell_type": "code",
   "execution_count": 22,
   "id": "73f03eea",
   "metadata": {
    "tags": []
   },
   "outputs": [
    {
     "ename": "NameError",
     "evalue": "name 'cat' is not defined",
     "output_type": "error",
     "traceback": [
      "\u001b[0;31mNameError\u001b[0m\u001b[0;31m:\u001b[0m name 'cat' is not defined\n"
     ]
    }
   ],
   "source": [
    "%%expect NameError\n",
    "\n",
    "print(cat)"
   ]
  },
  {
   "cell_type": "markdown",
   "id": "3ae36c29",
   "metadata": {},
   "source": [
    "在函数体外，`cat`变量未被定义。\n",
    "\n",
    "形参也是局部的。例如，在`cat_twice`函数定义之外，没有对应的`part1`或`part2`变量。"
   ]
  },
  {
   "cell_type": "markdown",
   "id": "eabac8a6",
   "metadata": {},
   "source": [
    "## 栈图\n",
    "\n",
    "要跟踪每个变量在哪使用，有时绘制**栈图stack diagram**很有用。和状态图一样，栈图会显示每个变量的值，但栈图会显示每个变量所属的函数。\n",
    "\n",
    "每个函数显示为一个**帧frame**。帧是一个方框，外面有函数的名字，而函数的形参和局部变量在方框内部。\n",
    "\n",
    "上例的栈图如下："
   ]
  },
  {
   "cell_type": "code",
   "execution_count": 23,
   "id": "83df4e32",
   "metadata": {
    "tags": []
   },
   "outputs": [],
   "source": [
    "from diagram import make_frame, Stack\n",
    "\n",
    "d1 = dict(line1=line1, line2=line2)\n",
    "frame1 = make_frame(d1, name='__main__', dy=-0.3, loc='left')\n",
    "\n",
    "d2 = dict(part1=line1, part2=line2, cat=line1+line2)\n",
    "frame2 = make_frame(d2, name='cat_twice', dy=-0.3, \n",
    "                    offsetx=0.03, loc='left')\n",
    "\n",
    "d3 = dict(string = line1+line2)\n",
    "frame3 = make_frame(d3, name='print_twice', \n",
    "                    offsetx=-0.28, offsety=-0.3, loc='left')\n",
    "\n",
    "d4 = {\"?\": line1+line2}\n",
    "frame4 = make_frame(d4, name='print', \n",
    "                    offsetx=-0.28, offsety=0, loc='left')\n",
    "\n",
    "stack = Stack([frame1, frame2, frame3, frame4], dy=-0.8)"
   ]
  },
  {
   "cell_type": "code",
   "execution_count": 24,
   "id": "bcd5e1df",
   "metadata": {
    "tags": []
   },
   "outputs": [
    {
     "data": {
      "image/png": "[encoded data removed]",
      "text/plain": [
       "<Figure size 380x291 with 1 Axes>"
      ]
     },
     "metadata": {},
     "output_type": "display_data"
    }
   ],
   "source": [
    "from diagram import diagram, adjust\n",
    "\n",
    "\n",
    "width, height, x, y = [3.8, 2.91, 1.15, 2.66]\n",
    "ax = diagram(width, height)\n",
    "bbox = stack.draw(ax, x, y)\n",
    "#adjust(x, y, bbox)"
   ]
  },
  {
   "cell_type": "markdown",
   "id": "854fee12",
   "metadata": {},
   "source": [
    "帧按栈排列，标识哪个函数调用了哪个，并以此类推。从底部开始查看，`print`被`print_twice`调用，`print_twice`被`cat_twice`调用，`cat_twice`被`__main__`调用。`__main__`是最顶层帧的特殊名字。当你在函数外创建了变量名，它就属于`__main__`。\n",
    "\n",
    "译注：与数据结构中的“栈顶”，“栈底”不同，本节的表述是相反的。`__main__`实际是Python最“底层”的帧。以这种顺序表示主要是与下一节回溯信息的实现方式保持一致。\n",
    "\n",
    "在`print`帧中问号表示我们不知道形参的名字。如果你好奇的话，可以询问虚拟助手，“Python的print函数的形式参数是什么？”"
   ]
  },
  {
   "cell_type": "markdown",
   "id": "5690cfc0",
   "metadata": {},
   "source": [
    "## 回溯\n",
    "\n",
    "当在函数中出现运行时错误的时候，Python将显示函数的名字，调用这个函数的函数名，以此类推，直到栈顶。\n",
    "\n",
    "我会定义一个包含错误的`print_twice`版本作为例子。它尝试打印另一个函数的局部变量`cat`。"
   ]
  },
  {
   "cell_type": "code",
   "execution_count": 25,
   "id": "886519cf",
   "metadata": {},
   "outputs": [],
   "source": [
    "def print_twice(string):\n",
    "    print(cat)            # NameError\n",
    "    print(cat)"
   ]
  },
  {
   "cell_type": "markdown",
   "id": "d7c0713b",
   "metadata": {},
   "source": [
    "运行`cat_twice`，查看会发生什么："
   ]
  },
  {
   "cell_type": "code",
   "execution_count": 26,
   "id": "1fe8ee82",
   "metadata": {
    "tags": []
   },
   "outputs": [
    {
     "name": "stdout",
     "output_type": "stream",
     "text": [
      "Exception reporting mode: Verbose\n"
     ]
    }
   ],
   "source": [
    "# 这个单元格让Jupyter在出现运行时故障时提供更多调试信息。\n",
    "# 在进行练习前先运行本单元格。\n",
    "\n",
    "%xmode Verbose"
   ]
  },
  {
   "cell_type": "code",
   "execution_count": 27,
   "id": "d9082f88",
   "metadata": {
    "tags": []
   },
   "outputs": [
    {
     "ename": "NameError",
     "evalue": "name 'cat' is not defined",
     "output_type": "error",
     "traceback": [
      "\u001b[0;31m---------------------------------------------------------------------------\u001b[0m",
      "\u001b[0;31mNameError\u001b[0m                                 Traceback (most recent call last)",
      "Cell \u001b[0;32mIn[27], line 1\u001b[0m\n\u001b[0;32m----> 1\u001b[0m cat_twice(line1, line2)\n        line1 \u001b[0;34m= 'Always look on the '\u001b[0m\u001b[0;34m\n        \u001b[0mline2 \u001b[0;34m= 'bright side of life.'\u001b[0m\n",
      "Cell \u001b[0;32mIn[20], line 3\u001b[0m, in \u001b[0;36mcat_twice\u001b[0;34m(part1='Always look on the ', part2='bright side of life.')\u001b[0m\n\u001b[1;32m      1\u001b[0m \u001b[38;5;28;01mdef\u001b[39;00m \u001b[38;5;21mcat_twice\u001b[39m(part1, part2):\n\u001b[1;32m      2\u001b[0m     cat \u001b[38;5;241m=\u001b[39m part1 \u001b[38;5;241m+\u001b[39m part2\n\u001b[0;32m----> 3\u001b[0m     print_twice(cat)\n        cat \u001b[0;34m= 'Always look on the bright side of life.'\u001b[0m\n",
      "Cell \u001b[0;32mIn[25], line 2\u001b[0m, in \u001b[0;36mprint_twice\u001b[0;34m(string='Always look on the bright side of life.')\u001b[0m\n\u001b[1;32m      1\u001b[0m \u001b[38;5;28;01mdef\u001b[39;00m \u001b[38;5;21mprint_twice\u001b[39m(string):\n\u001b[0;32m----> 2\u001b[0m     \u001b[38;5;28mprint\u001b[39m(cat)            \u001b[38;5;66;03m# NameError\u001b[39;00m\n\u001b[1;32m      3\u001b[0m     \u001b[38;5;28mprint\u001b[39m(cat)\n",
      "\u001b[0;31mNameError\u001b[0m: name 'cat' is not defined"
     ]
    }
   ],
   "source": [
    "%%expect NameError\n",
    "\n",
    "cat_twice(line1, line2)"
   ]
  },
  {
   "cell_type": "markdown",
   "id": "2f4defcf",
   "metadata": {},
   "source": [
    "错误信息中包含一个**回溯traceback**，显示错误产生时所在的函数，调用该函数的函数，以此类推。在这个例子中，它显示`cat_twice`调用了`print_twice`，而错误出现在`print_twice`中。\n",
    "\n",
    "回溯中的函数顺序与栈图的顺序一致。正在运行的函数在最底部。\n",
    "\n",
    "译注：与上面的栈图有些许不同，上面示例中的回溯没有将print函数的调用情况显示出来，这是因为print函数还没有加入栈，Python就发现了NameError,进行了回溯并终止了程序。"
   ]
  },
  {
   "cell_type": "markdown",
   "id": "374b4696",
   "metadata": {},
   "source": [
    "## 为什么使用函数？\n",
    "\n",
    "现在可能还不能体会到，麻烦地将程序分成若干个函数有什么价值。以下是一些原因：\n",
    "\n",
    "- 创建新函数让你能够给一组语句进行命名，让你的程序更加易于阅读和调试；\n",
    "- 通过消除重复代码，函数可以让程序更小。然后，如果你需要修改，你只需要修改一次；\n",
    "- 将长程序分为若干函数，可以让你一次调试一部分，然后将它们组装成一个整体；\n",
    "- 设计良好的函数通常对许多程序都有用。一旦你编写并调试好函数，你可以重复利用它。"
   ]
  },
  {
   "cell_type": "markdown",
   "id": "c6dd486e",
   "metadata": {},
   "source": [
    "## 调试\n",
    "\n",
    "调试可能是令人沮丧的，但也充满挑战，有时是有趣的。调试也是你可以学习的最重要的技能之一。\n",
    "\n",
    "调试在某些方面像是侦探工作。你获得了一些线索，你必须从你看到的结果，推断发生了什么事。\n",
    "\n",
    "调试也像是实验科学，一旦你觉得哪里出错了，你可以修改程序并再试一遍。如果你的假设正确，你可以预测修改的结果，从而更接近正确的程序。如果假设错误，你必须重新进行假设。\n",
    "\n",
    "对于有些人，编程和调试是同一件事，也即编程是不断调试直到满足要求的过程。你应该从有效的程序开始，不断地修改并且调试。\n",
    "\n",
    "如果你发现自己花了许多时间进行调试，通常说明你在测试之前写了太多代码。如果你及时测试，你的编程速度可能更快。"
   ]
  },
  {
   "cell_type": "markdown",
   "id": "d4e95e63",
   "metadata": {},
   "source": [
    "## 术语表\n",
    "\n",
    "- **函数定义function definition**：创建函数的语句；\n",
    "- 函数**头部header**：函数定义的第一行；\n",
    "- 函数**主体body**：函数定义中的语句序列；\n",
    "- **函数对象function object**：由函数定义创建的值。函数的名字是一个变量，指向函数对象；\n",
    "- **形式参数parameter**：函数中使用的变量名，用于接受实际参数的值；\n",
    "- **循环loop**：执行若干语句的语句，通常是重复执行；\n",
    "- **局部变量local variable**：在函数内部定义的变量，只能在函数内部被访问；\n",
    "- **栈图stack diagram**：函数变量与指向的值的栈的图形化表示；\n",
    "- **栈帧frame**：栈图中表示一个函数调用的方框。包含该函数的局部变量和形参；\n",
    "- **回溯traceback**：一系列执行中的函数，当错误发生时会被打印。"
   ]
  },
  {
   "cell_type": "markdown",
   "id": "eca485f2",
   "metadata": {},
   "source": [
    "## 练习"
   ]
  },
  {
   "cell_type": "code",
   "execution_count": 28,
   "id": "3f77b428",
   "metadata": {
    "tags": []
   },
   "outputs": [
    {
     "name": "stdout",
     "output_type": "stream",
     "text": [
      "Exception reporting mode: Verbose\n"
     ]
    }
   ],
   "source": [
    "# 这个单元格让Jupyter在出现运行时故障时提供更多调试信息。\n",
    "# 在进行练习前先运行本单元格。\n",
    "\n",
    "%xmode Verbose"
   ]
  },
  {
   "cell_type": "markdown",
   "id": "82951027",
   "metadata": {},
   "source": [
    "### 询问虚拟助手\n",
    "\n",
    "习惯上函数或者`for`循环中的语句缩进为4个空格。但不是所有人都同意。如果好奇关于这个争论的历史，询问虚拟助手“告诉我更多Python中关于空格和制表符的历史”。\n",
    "\n",
    "虚拟助手善于编写小的函数。\n",
    "\n",
    "1. 让虚拟助手“编写一个函数，函数名为repeat，函数接受一个字符串和一个整数，将字符串打印指定次数”。\n",
    "2. 如果结果中包含`for`循环，你可以询问：“你能在这个函数中不使用for循环吗？”\n",
    "3. 选择本章的其他函数，让虚拟助手编写。挑战在于精确地描述函数，得到你想要的功能。使用你目前学到的编程词汇。\n",
    "\n",
    "虚拟助手也善于对函数进行调试。\n",
    "\n",
    "1. 询问虚拟助手以下版本的`print_twice`错误在哪。\n",
    "\n",
    "```py\n",
    "def print_twice(string):\n",
    "    print(cat)\n",
    "    print(cat)\n",
    "```\n",
    "\n",
    "如果下面的练习中有些卡住了你，尝试询问虚拟助手。"
   ]
  },
  {
   "cell_type": "markdown",
   "id": "b7157b09",
   "metadata": {},
   "source": [
    "### 练习\n",
    "\n",
    "编写函数`print_right`，接受字符串形参`text`，打印该字符串，用空格填充左边，从而让`text`中的最后一个字母出现在一行的第40列。"
   ]
  },
  {
   "cell_type": "markdown",
   "id": "428fbee5",
   "metadata": {},
   "source": [
    "提示：使用`len`函数，字符串的拼接运算符`+`，以及字符串重复运算符`*`。\n",
    "\n",
    "以下是一些示例。\n",
    "\n",
    "```py\n",
    "print_right(\"Monty\")\n",
    "print_right(\"Python's\")\n",
    "print_right(\"Flying Circus\")\n",
    "```\n",
    "\n",
    "输出：\n",
    "\n",
    "```txt\n",
    "                                   Monty\n",
    "                                Python's\n",
    "                           Flying Circus\n",
    "```"
   ]
  },
  {
   "cell_type": "markdown",
   "id": "b47467fa",
   "metadata": {},
   "source": [
    "### 练习\n",
    "\n",
    "编写函数`triangle`，接受一个字符和一个整数，绘制指定高度的金字塔，每行由重复的字符组成，且每行的字符数量增加1。以下是一个`5`层的`L`金字塔。\n",
    "\n",
    "```py\n",
    "triangle('L', 5)\n",
    "```\n",
    "\n",
    "输出：\n",
    "\n",
    "```txt\n",
    "L\n",
    "LL\n",
    "LLL\n",
    "LLLL\n",
    "LLLLL\n",
    "```"
   ]
  },
  {
   "cell_type": "markdown",
   "id": "4a28f635",
   "metadata": {},
   "source": [
    "### 练习\n",
    "\n",
    "编写函数`rectangle`，接受一个字符和两个整数，用指定的字符绘制指定宽度和高度的矩形。以下是一个宽度`width`为`5`,高度`height`为`4`的由字符`H`绘制的示例。\n",
    "\n",
    "```py\n",
    "rectangle('H', 5, 4)\n",
    "```\n",
    "\n",
    "输出：\n",
    "\n",
    "```txt\n",
    "HHHHH\n",
    "H   H\n",
    "H   H\n",
    "HHHHH\n",
    "```"
   ]
  },
  {
   "cell_type": "markdown",
   "id": "44a5de6f",
   "metadata": {},
   "source": [
    "### 练习\n",
    "\n",
    "歌曲“99 Bottles of Beer”的第一段歌词为：\n",
    "\n",
    "> 99 bottles of beer on the wall  \n",
    "> 99 bottles of beer  \n",
    "> Take one down, pass it around  \n",
    "> 98 bottles of beer on the wall  \n",
    "\n",
    "第二段歌词与第一段基本相同，只是前两行的99变为98,最后一行的98变成97。这个歌会一直进行，直到最后只剩下0瓶啤酒。\n",
    "\n",
    "编写函数`bottle_verse`，接受一个数字作为形参，显示从指定数量啤酒开始的那段歌词。\n",
    "\n",
    "注意：考虑定义可以打印第1,2或第4行歌词的函数，然后在`bottle_verse`中调用这个（些）函数。"
   ]
  },
  {
   "cell_type": "markdown",
   "id": "ee0076dd",
   "metadata": {
    "tags": []
   },
   "source": [
    "以下是一个示例：\n",
    "\n",
    "```py\n",
    "bottle_verse(42)\n",
    "```\n",
    "\n",
    "输出：\n",
    "\n",
    "```txt\n",
    "42 bottles of beer on the wall  \n",
    "42 bottles of beer  \n",
    "Take one down, pass it around  \n",
    "41 bottles of beer on the wall  \n",
    "```"
   ]
  },
  {
   "cell_type": "markdown",
   "id": "42c237c6",
   "metadata": {
    "tags": []
   },
   "source": [
    "如果你想要打印完整歌词，你可以使用`for`循环，从`99`倒数到`1`。你不需要完全理解下面的例子，在后续章节会进一步学习`for`循环和`range`函数。"
   ]
  },
  {
   "cell_type": "code",
   "execution_count": null,
   "id": "59352c19",
   "metadata": {},
   "outputs": [],
   "source": [
    "for n in range(99, 0, -1):\n",
    "    bottle_verse(n)\n",
    "    print()"
   ]
  },
  {
   "cell_type": "markdown",
   "id": "a7f4edf8",
   "metadata": {
    "tags": []
   },
   "source": [
    "[Think Python: 3rd Edition](https://allendowney.github.io/ThinkPython/index.html)\n",
    "\n",
    "Copyright 2024 [Allen B. Downey](https://allendowney.com)\n",
    "\n",
    "Code license: [MIT License](https://mit-license.org/)\n",
    "\n",
    "Text license: [Creative Commons Attribution-NonCommercial-ShareAlike 4.0 International](https://creativecommons.org/licenses/by-nc-sa/4.0/)"
   ]
  }
 ],
 "metadata": {
  "celltoolbar": "Tags",
  "kernelspec": {
   "display_name": "base",
   "language": "python",
   "name": "python3"
  },
  "language_info": {
   "codemirror_mode": {
    "name": "ipython",
    "version": 3
   },
   "file_extension": ".py",
   "mimetype": "text/x-python",
   "name": "python",
   "nbconvert_exporter": "python",
   "pygments_lexer": "ipython3",
   "version": "3.12.7"
  }
 },
 "nbformat": 4,
 "nbformat_minor": 5
}
