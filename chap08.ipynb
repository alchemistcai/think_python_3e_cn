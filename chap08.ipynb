{
 "cells": [
  {
   "cell_type": "markdown",
   "id": "fade033f",
   "metadata": {},
   "source": [
    "可以在[Bookshop.org](https://bookshop.org/a/98697/9781098155438) 和\n",
    "[Amazon](https://www.amazon.com/_/dp/1098155432?smid=ATVPDKIKX0DER&_encoding=UTF8&tag=oreilly20-20&_encoding=UTF8&tag=greenteapre01-20&linkCode=ur2&linkId=e2a529f94920295d27ec8a06e757dc7c&camp=1789&creative=9325)获取纸制版和电子版的*Think Python 3e*."
   ]
  },
  {
   "cell_type": "code",
   "execution_count": 1,
   "id": "361d390a",
   "metadata": {
    "tags": []
   },
   "outputs": [],
   "source": [
    "from os.path import basename, exists\n",
    "\n",
    "def download(url):\n",
    "    filename = basename(url)\n",
    "    if not exists(filename):\n",
    "        from urllib.request import urlretrieve\n",
    "\n",
    "        local, _ = urlretrieve(url, filename)\n",
    "        print(\"Downloaded \" + str(local))\n",
    "    return filename\n",
    "\n",
    "download('https://gitee.com/regentsai/Think_Python_3e_CN/blob/master/thinkpython.py');\n",
    "download('https://gitee.com/regentsai/Think_Python_3e_CN/blob/master/diagram.py');\n",
    "\n",
    "import thinkpython"
   ]
  },
  {
   "cell_type": "markdown",
   "id": "9d97603b",
   "metadata": {},
   "source": [
    "# 第8章：字符串和正则表达式\n",
    "\n",
    "字符串不像整数，浮点数或布尔值。字符串是一个**序列sequence**，包含多个值，这些值按特定顺序排列。\n",
    "\n",
    "本章我们将看到如何获取组成字符串的值，也将使用处理字符串的函数。\n",
    "\n",
    "我们也将使用正则表达式，这是寻找字符串中模式并进行替换的强大工具。\n",
    "\n",
    "作为练习，你将有机会应用这些工具，解决单词游戏Wordle。"
   ]
  },
  {
   "cell_type": "markdown",
   "id": "1280dd83",
   "metadata": {},
   "source": [
    "## 字符串是序列\n",
    "\n",
    "字符串是字符的序列。**字符character**可以是一个字母，数字，标点符号或者空白符。\n",
    "\n",
    "你可以使用方括号运算符选中字符串中的字符。以下示例语句选择`fruit`的第1个字符，并赋值给变量`letter`："
   ]
  },
  {
   "cell_type": "code",
   "execution_count": 2,
   "id": "9b53c1fe",
   "metadata": {},
   "outputs": [],
   "source": [
    "fruit = 'banana'\n",
    "letter = fruit[1]"
   ]
  },
  {
   "cell_type": "markdown",
   "id": "a307e429",
   "metadata": {},
   "source": [
    "方括号中的表达式是**索引index**，因为它*指明*了选中的是序列中的哪个字符。但选中的可能不是你预期的结果。"
   ]
  },
  {
   "cell_type": "code",
   "execution_count": 3,
   "id": "2cb1d58c",
   "metadata": {},
   "outputs": [
    {
     "data": {
      "text/plain": [
       "'a'"
      ]
     },
     "execution_count": 3,
     "metadata": {},
     "output_type": "execute_result"
    }
   ],
   "source": [
    "letter"
   ]
  },
  {
   "cell_type": "markdown",
   "id": "57c13319",
   "metadata": {},
   "source": [
    "索引`1`对应的字母实际是字符串中的第2个字母。索引是字符串开始位置的偏移量，所以第1个字母的偏移量为`0`。"
   ]
  },
  {
   "cell_type": "code",
   "execution_count": 4,
   "id": "4ce1eb16",
   "metadata": {},
   "outputs": [
    {
     "data": {
      "text/plain": [
       "'b'"
      ]
     },
     "execution_count": 4,
     "metadata": {},
     "output_type": "execute_result"
    }
   ],
   "source": [
    "fruit[0]"
   ]
  },
  {
   "cell_type": "markdown",
   "id": "57d8e54c",
   "metadata": {},
   "source": [
    "你可以认为`'b'`是`'banana'`的第0位字母。方括号中的索引可以是变量。"
   ]
  },
  {
   "cell_type": "code",
   "execution_count": 5,
   "id": "11201ba9",
   "metadata": {},
   "outputs": [
    {
     "data": {
      "text/plain": [
       "'a'"
      ]
     },
     "execution_count": 5,
     "metadata": {},
     "output_type": "execute_result"
    }
   ],
   "source": [
    "i = 1\n",
    "fruit[i]"
   ]
  },
  {
   "cell_type": "markdown",
   "id": "9630e2e7",
   "metadata": {},
   "source": [
    "索引也可以是包含变量和运算符的表达式。"
   ]
  },
  {
   "cell_type": "code",
   "execution_count": 6,
   "id": "fc4383d0",
   "metadata": {},
   "outputs": [
    {
     "data": {
      "text/plain": [
       "'n'"
      ]
     },
     "execution_count": 6,
     "metadata": {},
     "output_type": "execute_result"
    }
   ],
   "source": [
    "fruit[i+1]"
   ]
  },
  {
   "cell_type": "markdown",
   "id": "939b602d",
   "metadata": {},
   "source": [
    "但索引的值必须是整数，否则你将得到`TypeError`。"
   ]
  },
  {
   "cell_type": "code",
   "execution_count": 7,
   "id": "aec20975",
   "metadata": {
    "tags": []
   },
   "outputs": [
    {
     "ename": "TypeError",
     "evalue": "string indices must be integers, not 'float'",
     "output_type": "error",
     "traceback": [
      "\u001b[0;31mTypeError\u001b[0m\u001b[0;31m:\u001b[0m string indices must be integers, not 'float'\n"
     ]
    }
   ],
   "source": [
    "%%expect TypeError\n",
    "\n",
    "fruit[1.5]"
   ]
  },
  {
   "cell_type": "markdown",
   "id": "3f0f7e3a",
   "metadata": {},
   "source": [
    "与我们在第1章看到的一样，我们可以使用内建函数`len`获得字符串的长度。"
   ]
  },
  {
   "cell_type": "code",
   "execution_count": 8,
   "id": "796ce317",
   "metadata": {},
   "outputs": [
    {
     "data": {
      "text/plain": [
       "6"
      ]
     },
     "execution_count": 8,
     "metadata": {},
     "output_type": "execute_result"
    }
   ],
   "source": [
    "n = len(fruit)\n",
    "n"
   ]
  },
  {
   "cell_type": "markdown",
   "id": "29013c47",
   "metadata": {},
   "source": [
    "要获得字符串的最后一个字母，你可能会这样写，将字符串的长度作为索引："
   ]
  },
  {
   "cell_type": "code",
   "execution_count": 9,
   "id": "3ccb4a64",
   "metadata": {
    "tags": []
   },
   "outputs": [
    {
     "ename": "IndexError",
     "evalue": "string index out of range",
     "output_type": "error",
     "traceback": [
      "\u001b[0;31mIndexError\u001b[0m\u001b[0;31m:\u001b[0m string index out of range\n"
     ]
    }
   ],
   "source": [
    "%%expect IndexError\n",
    "\n",
    "fruit[n]"
   ]
  },
  {
   "cell_type": "markdown",
   "id": "b87e09bd",
   "metadata": {},
   "source": [
    "这会导致`IndexError`，因为`'banana'`中没有字母的索引为6。因为我们从`0`开始数，各个字母的编号从`0`到`5`。要获得最后一个字符，你需要用索引`n-1`。"
   ]
  },
  {
   "cell_type": "code",
   "execution_count": 10,
   "id": "2cf99de6",
   "metadata": {},
   "outputs": [
    {
     "data": {
      "text/plain": [
       "'a'"
      ]
     },
     "execution_count": 10,
     "metadata": {},
     "output_type": "execute_result"
    }
   ],
   "source": [
    "fruit[n-1]"
   ]
  },
  {
   "cell_type": "markdown",
   "id": "3c79dcec",
   "metadata": {},
   "source": [
    "有一个更简单的方式，要获得最后一个字符，你可以用负数索引，从字符结尾开始数。"
   ]
  },
  {
   "cell_type": "code",
   "execution_count": 11,
   "id": "3dedf6fa",
   "metadata": {},
   "outputs": [
    {
     "data": {
      "text/plain": [
       "'a'"
      ]
     },
     "execution_count": 11,
     "metadata": {},
     "output_type": "execute_result"
    }
   ],
   "source": [
    "fruit[-1]"
   ]
  },
  {
   "cell_type": "markdown",
   "id": "5677b727",
   "metadata": {},
   "source": [
    "索引`-1`选择最后一个字符，`-2`选择最后第2个字符，以此类推。\n",
    "\n",
    "译注：想象字符串首尾相连，第1个字符向左偏移1位，即可获得最后1个字符，因此最后一个字符的偏移量和索引为`-1`，依此类推。这种索引编号方式源于其他语言对数字的编码方式。"
   ]
  },
  {
   "cell_type": "markdown",
   "id": "8392a12a",
   "metadata": {},
   "source": [
    "## 字符串切片\n",
    "\n",
    "字符串的片段叫作**切片slice**。选择切片与选择字符串类似。"
   ]
  },
  {
   "cell_type": "code",
   "execution_count": 12,
   "id": "386b9df2",
   "metadata": {},
   "outputs": [
    {
     "data": {
      "text/plain": [
       "'ban'"
      ]
     },
     "execution_count": 12,
     "metadata": {},
     "output_type": "execute_result"
    }
   ],
   "source": [
    "fruit = 'banana'\n",
    "fruit[0:3]"
   ]
  },
  {
   "cell_type": "markdown",
   "id": "5cc12531",
   "metadata": {},
   "source": [
    "运算符`[n:m]`返回从`n`到`m`个字符的部分字符串，包括第`n`个字符，不包括第`m`个字符。\n",
    "\n",
    "这种行为有点反直觉，但把索引想象成字符*之间*的点可能会有所帮助："
   ]
  },
  {
   "cell_type": "code",
   "execution_count": 13,
   "id": "05f9743d",
   "metadata": {
    "tags": []
   },
   "outputs": [],
   "source": [
    "from diagram import make_binding, Element, Value\n",
    "\n",
    "binding = make_binding(\"fruit\", ' b a n a n a ')\n",
    "elements = [Element(Value(i), None) for i in range(7)]"
   ]
  },
  {
   "cell_type": "code",
   "execution_count": 14,
   "id": "b09d8356",
   "metadata": {
    "tags": []
   },
   "outputs": [
    {
     "data": {
      "image/png": "[encoded data removed]",
      "text/plain": [
       "<Figure size 135x54 with 1 Axes>"
      ]
     },
     "metadata": {},
     "output_type": "display_data"
    }
   ],
   "source": [
    "import matplotlib.pyplot as plt\n",
    "from diagram import diagram, adjust\n",
    "from matplotlib.transforms import Bbox\n",
    "\n",
    "width, height, x, y = [1.35, 0.54, 0.23, 0.39]\n",
    "\n",
    "ax = diagram(width, height)\n",
    "bbox = binding.draw(ax, x, y)\n",
    "bboxes = [bbox]\n",
    "\n",
    "def draw_elts(x, y, elements):\n",
    "    for elt in elements:\n",
    "        bbox = elt.draw(ax, x, y, draw_value=False)\n",
    "        bboxes.append(bbox)\n",
    "\n",
    "        x1 = (bbox.xmin + bbox.xmax) / 2\n",
    "        y1 = bbox.ymax + 0.02\n",
    "        y2 = y1 + 0.14\n",
    "        handle = plt.plot([x1, x1], [y1, y2], ':', lw=0.5, color='gray')\n",
    "        x += 0.105\n",
    "    \n",
    "draw_elts(x + 0.48, y - 0.25, elements)\n",
    "bbox = Bbox.union(bboxes)\n",
    "# adjust(x, y, bbox)"
   ]
  },
  {
   "cell_type": "markdown",
   "id": "c391abbf",
   "metadata": {},
   "source": [
    "例如切片`[3:6]`选中`ana`，因此`6`是切片中合法的一部分，但在索引中是不合法的。\n",
    "\n",
    "如果你忽略第1个索引，切片从字符串的开头开始。"
   ]
  },
  {
   "cell_type": "code",
   "execution_count": 15,
   "id": "00592313",
   "metadata": {},
   "outputs": [
    {
     "data": {
      "text/plain": [
       "'ban'"
      ]
     },
     "execution_count": 15,
     "metadata": {},
     "output_type": "execute_result"
    }
   ],
   "source": [
    "fruit[:3]"
   ]
  },
  {
   "cell_type": "markdown",
   "id": "1bd7dcb1",
   "metadata": {},
   "source": [
    "如果你忽略第2个索引，切片会到达字符串的结尾："
   ]
  },
  {
   "cell_type": "code",
   "execution_count": 16,
   "id": "01684797",
   "metadata": {},
   "outputs": [
    {
     "data": {
      "text/plain": [
       "'ana'"
      ]
     },
     "execution_count": 16,
     "metadata": {},
     "output_type": "execute_result"
    }
   ],
   "source": [
    "fruit[3:]"
   ]
  },
  {
   "cell_type": "markdown",
   "id": "4701123b",
   "metadata": {},
   "source": [
    "如果第1个索引大于等于第2个索引，获得的结果是**空字符串empty string**，用两个引号表示："
   ]
  },
  {
   "cell_type": "code",
   "execution_count": 17,
   "id": "c7551ded",
   "metadata": {},
   "outputs": [
    {
     "data": {
      "text/plain": [
       "''"
      ]
     },
     "execution_count": 17,
     "metadata": {},
     "output_type": "execute_result"
    }
   ],
   "source": [
    "fruit[3:3]"
   ]
  },
  {
   "cell_type": "markdown",
   "id": "d12735ab",
   "metadata": {},
   "source": [
    "空字符串不包含字符，长度为0。\n",
    "\n",
    "你觉得`fruit[:]`代表的含义是什么？猜测之后执行下面的单元格。"
   ]
  },
  {
   "cell_type": "code",
   "execution_count": 18,
   "id": "b5c5ce3e",
   "metadata": {
    "tags": []
   },
   "outputs": [
    {
     "data": {
      "text/plain": [
       "'banana'"
      ]
     },
     "execution_count": 18,
     "metadata": {},
     "output_type": "execute_result"
    }
   ],
   "source": [
    "fruit[:]"
   ]
  },
  {
   "cell_type": "markdown",
   "id": "568c47d6",
   "metadata": {},
   "source": [
    "译注：python序列支持更多切片方式，提供优雅的切片和索引越界处理方案。尝试`fruit[:10]`，`fruit[:-1]`和`fruit[::-1]`的结果。"
   ]
  },
  {
   "cell_type": "markdown",
   "id": "918d3dd0",
   "metadata": {},
   "source": [
    "## 字符串是不可变的\n",
    "\n",
    "想要改变字符串的一个字符，在赋值语句的左边使用`[]`运算符很有诱惑："
   ]
  },
  {
   "cell_type": "code",
   "execution_count": 19,
   "id": "69ccd380",
   "metadata": {
    "tags": []
   },
   "outputs": [
    {
     "ename": "TypeError",
     "evalue": "'str' object does not support item assignment",
     "output_type": "error",
     "traceback": [
      "\u001b[0;31mTypeError\u001b[0m\u001b[0;31m:\u001b[0m 'str' object does not support item assignment\n"
     ]
    }
   ],
   "source": [
    "%%expect TypeError\n",
    "\n",
    "greeting = 'Hello, world!'\n",
    "greeting[0] = 'J'"
   ]
  },
  {
   "cell_type": "markdown",
   "id": "df3dd7d1",
   "metadata": {},
   "source": [
    "结果导致`TypeError`。在错误信息中，“object”对象是该字符串，“item”元素是我们想要赋值的字符。\n",
    "\n",
    "目前，**对象object**与值等同，但我们稍后会完善这个定义。\n",
    "\n",
    "产生这个错误的原因在于，字符串是**不可变的immutable**，你不能修改现存的字符串。最好的方式是创建一个新字符串。"
   ]
  },
  {
   "cell_type": "code",
   "execution_count": 20,
   "id": "280d27a1",
   "metadata": {},
   "outputs": [
    {
     "data": {
      "text/plain": [
       "'Jello, world!'"
      ]
     },
     "execution_count": 20,
     "metadata": {},
     "output_type": "execute_result"
    }
   ],
   "source": [
    "new_greeting = 'J' + greeting[1:]\n",
    "new_greeting"
   ]
  },
  {
   "cell_type": "markdown",
   "id": "2848546f",
   "metadata": {},
   "source": [
    "这个例子将新的字母和`greeting`字符串的切片进行拼接。这对原始字符串没有影响。"
   ]
  },
  {
   "cell_type": "code",
   "execution_count": 21,
   "id": "8fa4a4cf",
   "metadata": {},
   "outputs": [
    {
     "data": {
      "text/plain": [
       "'Hello, world!'"
      ]
     },
     "execution_count": 21,
     "metadata": {},
     "output_type": "execute_result"
    }
   ],
   "source": [
    "greeting"
   ]
  },
  {
   "cell_type": "markdown",
   "id": "49e4da57",
   "metadata": {},
   "source": [
    "## 比较字符串\n",
    "\n",
    "字符串支持关系运算符。我们可以使用`==`运算符比较两个字符串是否相等。"
   ]
  },
  {
   "cell_type": "code",
   "execution_count": 22,
   "id": "b754d462",
   "metadata": {},
   "outputs": [
    {
     "name": "stdout",
     "output_type": "stream",
     "text": [
      "All right, banana.\n"
     ]
    }
   ],
   "source": [
    "word = 'banana'\n",
    "\n",
    "if word == 'banana':\n",
    "    print('All right, banana.')"
   ]
  },
  {
   "cell_type": "markdown",
   "id": "e9be6097",
   "metadata": {},
   "source": [
    "其他关系运算符对于将单词按字母表顺序排序很有用："
   ]
  },
  {
   "cell_type": "code",
   "execution_count": 23,
   "id": "44374eb8",
   "metadata": {},
   "outputs": [],
   "source": [
    "def compare_word(word):\n",
    "    if word < 'banana':\n",
    "        print(word, '在banana之前。')\n",
    "    elif word > 'banana':\n",
    "        print(word, '在banana之后。')\n",
    "    else:\n",
    "        print('All right, banana.')"
   ]
  },
  {
   "cell_type": "code",
   "execution_count": 24,
   "id": "a46f7035",
   "metadata": {},
   "outputs": [
    {
     "name": "stdout",
     "output_type": "stream",
     "text": [
      "apple 在banana之前。\n"
     ]
    }
   ],
   "source": [
    "compare_word('apple')"
   ]
  },
  {
   "cell_type": "markdown",
   "id": "b66f449a",
   "metadata": {},
   "source": [
    "Python比较大小写字母的方式与人们常做的不同。所有大写字母比小写字母“小”。\n",
    "\n",
    "译注：在ASCII码表中，大写英文字母的编号小于小写字母。Python默认的UTF-8编码格式继承了该顺序，汉字按照康熙字典的偏旁部首和笔画数排序。"
   ]
  },
  {
   "cell_type": "code",
   "execution_count": 25,
   "id": "a691f9e2",
   "metadata": {},
   "outputs": [
    {
     "name": "stdout",
     "output_type": "stream",
     "text": [
      "Pineapple 在banana之前。\n"
     ]
    }
   ],
   "source": [
    "compare_word('Pineapple')"
   ]
  },
  {
   "cell_type": "markdown",
   "id": "f9b916c9",
   "metadata": {},
   "source": [
    "要解决这个问题，我们可以将字符串转化为标准模式，例如在比较之前将所有字母都转化为小写。\n",
    "\n",
    "如果你想免于手持菠萝的人的伤害，记住这一点。"
   ]
  },
  {
   "cell_type": "markdown",
   "id": "531069f1",
   "metadata": {},
   "source": [
    "## 字符串的方法\n",
    "\n",
    "字符串提供各种有用的方法。方法与函数相同，接受参数，返回值，但语法不同。\n",
    "\n",
    "例如，方法`upper`接受字符串，返回大写字母对应的字符串。调用方法不使用函数的语法`upper(word)`，而是采用`word.upper()`语法。"
   ]
  },
  {
   "cell_type": "code",
   "execution_count": 26,
   "id": "fa6140a6",
   "metadata": {},
   "outputs": [
    {
     "data": {
      "text/plain": [
       "'BANANA'"
      ]
     },
     "execution_count": 26,
     "metadata": {},
     "output_type": "execute_result"
    }
   ],
   "source": [
    "word = 'banana'\n",
    "new_word = word.upper()\n",
    "new_word"
   ]
  },
  {
   "cell_type": "markdown",
   "id": "1ac41744",
   "metadata": {},
   "source": [
    "这个例子使用点运算符，指名要应用方法的字符串名字`word`，以及方法的名字`upper`。空圆括号表示这个方法不接受参数。\n",
    "\n",
    "方法的调用称为**调用invocation**，在这个例子里面，我们说我们在`word`上调用`upper`。"
   ]
  },
  {
   "cell_type": "markdown",
   "id": "2a13d4ef",
   "metadata": {
    "tags": []
   },
   "source": [
    "## 写入文件\n",
    "\n",
    "字符串的运算符和方法对于读写文本文件很有用。例如我们将处理小说*德古拉Dracula*，它由Bram Stoker编写，可从古登堡项目获取(<https://www.gutenberg.org/ebooks/345>)。"
   ]
  },
  {
   "cell_type": "code",
   "execution_count": null,
   "id": "e3f1dc18",
   "metadata": {
    "tags": []
   },
   "outputs": [],
   "source": [
    "import os\n",
    "\n",
    "if not os.path.exists('pg345.txt'):\n",
    "    !wget https://www.gutenberg.org/cache/epub/345/pg345.txt"
   ]
  },
  {
   "cell_type": "markdown",
   "id": "963dda79",
   "metadata": {},
   "source": [
    "我已经下载了该小说的文本文件，文件名为`pg345.txt`，我们可以像这样读取："
   ]
  },
  {
   "cell_type": "code",
   "execution_count": 28,
   "id": "bd2d5175",
   "metadata": {},
   "outputs": [],
   "source": [
    "reader = open('pg345.txt')"
   ]
  },
  {
   "cell_type": "markdown",
   "id": "b5d99e8c",
   "metadata": {},
   "source": [
    "除了小说的文本，这个文件还在开头章节介绍书籍的信息，最后章节介绍协议的信息。在处理文本之前，我们可以移除额外的内容，它们以`'***'`开始。\n",
    "\n",
    "接下来的函数接受一行字符串，检查字符串是否是这种特殊行。它使用`startswith`方法，检查字符串是否以给定字符串开始。"
   ]
  },
  {
   "cell_type": "code",
   "execution_count": 29,
   "id": "b9c9318c",
   "metadata": {},
   "outputs": [],
   "source": [
    "def is_special_line(line):\n",
    "    return line.startswith('*** ')"
   ]
  },
  {
   "cell_type": "markdown",
   "id": "2efdfe35",
   "metadata": {},
   "source": [
    "We can use this function to loop through the lines in the file and print only the special lines."
   ]
  },
  {
   "cell_type": "code",
   "execution_count": 30,
   "id": "a9417d4c",
   "metadata": {},
   "outputs": [],
   "source": [
    "for line in reader:\n",
    "    if is_special_line(line):\n",
    "        print(line.strip())"
   ]
  },
  {
   "cell_type": "markdown",
   "id": "07fb5992",
   "metadata": {},
   "source": [
    "Now let's create a new file, called `pg345_cleaned.txt`, that contains only the text of the book.\n",
    "In order to loop through the book again, we have to open it again for reading.\n",
    "And, to write a new file, we can open it for writing."
   ]
  },
  {
   "cell_type": "code",
   "execution_count": 31,
   "id": "f2336825",
   "metadata": {},
   "outputs": [],
   "source": [
    "reader = open('pg345.txt')\n",
    "writer = open('pg345_cleaned.txt', 'w')"
   ]
  },
  {
   "cell_type": "markdown",
   "id": "96d881aa",
   "metadata": {},
   "source": [
    "`open` takes an optional parameters that specifies the \"mode\" -- in this example, `'w'` indicates that we're opening the file for writing.\n",
    "If the file doesn't exist, it will be created; if it already exists, the contents will be replaced.\n",
    "\n",
    "As a first step, we'll loop through the file until we find the first special line."
   ]
  },
  {
   "cell_type": "code",
   "execution_count": 32,
   "id": "d1b286ee",
   "metadata": {},
   "outputs": [],
   "source": [
    "for line in reader:\n",
    "    if is_special_line(line):\n",
    "        break"
   ]
  },
  {
   "cell_type": "markdown",
   "id": "1989d5a1",
   "metadata": {},
   "source": [
    "The `break` statement \"breaks\" out of the loop -- that is, it causes the loop to end immediately, before we get to the end of the file.\n",
    "\n",
    "When the loop exits, `line` contains the special line that made the conditional true."
   ]
  },
  {
   "cell_type": "code",
   "execution_count": 33,
   "id": "b4ecf365",
   "metadata": {},
   "outputs": [],
   "source": [
    "line"
   ]
  },
  {
   "cell_type": "markdown",
   "id": "9f28c3b4",
   "metadata": {},
   "source": [
    "Because `reader` keeps track of where it is in the file, we can use a second loop to pick up where we left off.\n",
    "\n",
    "The following loop reads the rest of the file, one line at a time.\n",
    "When it finds the special line that indicates the end of the text, it breaks out of the loop.\n",
    "Otherwise, it writes the line to the output file."
   ]
  },
  {
   "cell_type": "code",
   "execution_count": 34,
   "id": "a99dc11c",
   "metadata": {},
   "outputs": [],
   "source": [
    "for line in reader:\n",
    "    if is_special_line(line):\n",
    "        break\n",
    "    writer.write(line)"
   ]
  },
  {
   "cell_type": "markdown",
   "id": "c07032a4",
   "metadata": {},
   "source": [
    "When this loop exits, `line` contains the second special line."
   ]
  },
  {
   "cell_type": "code",
   "execution_count": 35,
   "id": "dfd6b264",
   "metadata": {},
   "outputs": [],
   "source": [
    "line"
   ]
  },
  {
   "cell_type": "markdown",
   "id": "0c30b41c",
   "metadata": {},
   "source": [
    "At this point `reader` and `writer` are still open, which means we could keep reading lines from `reader` or writing lines to `writer`.\n",
    "To indicate that we're done, we can close both files by invoking the `close` method."
   ]
  },
  {
   "cell_type": "code",
   "execution_count": 36,
   "id": "4eda555c",
   "metadata": {},
   "outputs": [],
   "source": [
    "reader.close()\n",
    "writer.close()"
   ]
  },
  {
   "cell_type": "markdown",
   "id": "d5084cdc",
   "metadata": {},
   "source": [
    "To check whether this process was successful, we can read the first few lines from the new file we just created."
   ]
  },
  {
   "cell_type": "code",
   "execution_count": 37,
   "id": "5e1e8c74",
   "metadata": {},
   "outputs": [],
   "source": [
    "for line in open('pg345_cleaned.txt'):\n",
    "    line = line.strip()\n",
    "    if len(line) > 0:\n",
    "        print(line)\n",
    "    if line.endswith('Stoker'):\n",
    "        break"
   ]
  },
  {
   "cell_type": "markdown",
   "id": "34c93df3",
   "metadata": {},
   "source": [
    "The `endswidth` method checks whether a string ends with a given sequence of characters."
   ]
  },
  {
   "cell_type": "markdown",
   "id": "fcdb4bbf",
   "metadata": {},
   "source": [
    "## Find and replace\n",
    "\n",
    "In the Icelandic translation of *Dracula* from 1901, the name of one of the characters was changed from \"Jonathan\" to \"Thomas\".\n",
    "To make this change in the English version, we can loop through the book, use the `replace` method to replace one name with another, and write the result to a new file.\n",
    "\n",
    "We'll start by counting the lines in the cleaned version of the file."
   ]
  },
  {
   "cell_type": "code",
   "execution_count": 38,
   "id": "63ebaafb",
   "metadata": {},
   "outputs": [],
   "source": [
    "total = 0\n",
    "for line in open('pg345_cleaned.txt'):\n",
    "    total += 1\n",
    "    \n",
    "total"
   ]
  },
  {
   "cell_type": "markdown",
   "id": "8ba9b9ca",
   "metadata": {},
   "source": [
    "To see whether a line contains \"Jonathan\", we can use the `in` operator, which checks whether this sequence of characters appears anywhere in the line."
   ]
  },
  {
   "cell_type": "code",
   "execution_count": 39,
   "id": "9973e6e8",
   "metadata": {},
   "outputs": [],
   "source": [
    "total = 0\n",
    "for line in open('pg345_cleaned.txt'):\n",
    "    if 'Jonathan' in line:\n",
    "        total += 1\n",
    "\n",
    "total"
   ]
  },
  {
   "cell_type": "markdown",
   "id": "27805245",
   "metadata": {},
   "source": [
    "There are 199 lines that contain the name, but that's not quite the total number of times it appears, because it can appear more than once in a line.\n",
    "To get the total, we can use the `count` method, which returns the number of times a sequence appears in a string."
   ]
  },
  {
   "cell_type": "code",
   "execution_count": 40,
   "id": "02e06ff1",
   "metadata": {},
   "outputs": [],
   "source": [
    "total = 0\n",
    "for line in open('pg345_cleaned.txt'):\n",
    "    total += line.count('Jonathan')\n",
    "\n",
    "total"
   ]
  },
  {
   "cell_type": "markdown",
   "id": "68026797",
   "metadata": {},
   "source": [
    "Now we can replace `'Jonathan'` with `'Thomas'` like this:"
   ]
  },
  {
   "cell_type": "code",
   "execution_count": 41,
   "id": "1450e82c",
   "metadata": {},
   "outputs": [],
   "source": [
    "writer = open('pg345_replaced.txt', 'w')\n",
    "\n",
    "for line in open('pg345_cleaned.txt'):\n",
    "    line = line.replace('Jonathan', 'Thomas')\n",
    "    writer.write(line)"
   ]
  },
  {
   "cell_type": "markdown",
   "id": "57ba56f3",
   "metadata": {},
   "source": [
    "The result is a new file called `pg345_replaced.txt` that contains a version of *Dracula* where Jonathan Harker is called Thomas."
   ]
  },
  {
   "cell_type": "code",
   "execution_count": 42,
   "id": "a57b64c6",
   "metadata": {
    "tags": []
   },
   "outputs": [],
   "source": [
    "total = 0\n",
    "for line in open('pg345_replaced.txt'):\n",
    "    total += line.count('Thomas')\n",
    "\n",
    "total"
   ]
  },
  {
   "cell_type": "markdown",
   "id": "cc9af187",
   "metadata": {},
   "source": [
    "## Regular expressions\n",
    "\n",
    "If we know exactly what sequence of characters we're looking for, we can use the `in` operator to find it and the `replace` method to replace it.\n",
    "But there is another tool, called a **regular expression** that can also perform these operations -- and a lot more.\n",
    "\n",
    "To demonstrate, I'll start with a simple example and we'll work our way up.\n",
    "Suppose, again, that we want to find all lines that contain a particular word.\n",
    "For a change, let's look for references to the titular character of the book, Count Dracula.\n",
    "Here's a line that mentions him."
   ]
  },
  {
   "cell_type": "code",
   "execution_count": 43,
   "id": "a6069027",
   "metadata": {},
   "outputs": [],
   "source": [
    "text = \"I am Dracula; and I bid you welcome, Mr. Harker, to my house.\""
   ]
  },
  {
   "cell_type": "markdown",
   "id": "d4fd6d11",
   "metadata": {},
   "source": [
    "And here's the **pattern** we'll use to search."
   ]
  },
  {
   "cell_type": "code",
   "execution_count": 44,
   "id": "e3c19abe",
   "metadata": {},
   "outputs": [],
   "source": [
    "pattern = 'Dracula'"
   ]
  },
  {
   "cell_type": "markdown",
   "id": "268f647c",
   "metadata": {},
   "source": [
    "A module called `re` provides functions related to regular expressions.\n",
    "We can import it like this and use the `search` function to check whether the pattern appears in the text."
   ]
  },
  {
   "cell_type": "code",
   "execution_count": 45,
   "id": "db588abb",
   "metadata": {},
   "outputs": [],
   "source": [
    "import re\n",
    "\n",
    "result = re.search(pattern, text)\n",
    "result"
   ]
  },
  {
   "cell_type": "markdown",
   "id": "e17f6731",
   "metadata": {},
   "source": [
    "If the pattern appears in the text, `search` returns a `Match` object that contains the results of the search.\n",
    "Among other information, it has a variable named `string` that contains the text that was searched."
   ]
  },
  {
   "cell_type": "code",
   "execution_count": 46,
   "id": "924524a6",
   "metadata": {},
   "outputs": [],
   "source": [
    "result.string"
   ]
  },
  {
   "cell_type": "markdown",
   "id": "a8eab0f6",
   "metadata": {},
   "source": [
    "It also provides a method called `group` that returns the part of the text that matched the pattern."
   ]
  },
  {
   "cell_type": "code",
   "execution_count": 47,
   "id": "c72b860c",
   "metadata": {},
   "outputs": [],
   "source": [
    "result.group()"
   ]
  },
  {
   "cell_type": "markdown",
   "id": "b6962a7d",
   "metadata": {},
   "source": [
    "And it provides a method called `span` that returns the index in the text where the pattern starts and ends."
   ]
  },
  {
   "cell_type": "code",
   "execution_count": 48,
   "id": "7c2f556c",
   "metadata": {},
   "outputs": [],
   "source": [
    "result.span()"
   ]
  },
  {
   "cell_type": "markdown",
   "id": "8f1e5261",
   "metadata": {},
   "source": [
    "If the pattern doesn't appear in the text, the return value from `search` is `None`."
   ]
  },
  {
   "cell_type": "code",
   "execution_count": 49,
   "id": "d5242ef6",
   "metadata": {},
   "outputs": [],
   "source": [
    "result = re.search('Count', text)\n",
    "print(result)"
   ]
  },
  {
   "cell_type": "markdown",
   "id": "d5ed33ff",
   "metadata": {},
   "source": [
    "So we can check whether the search was successful by checking whether the result is `None`."
   ]
  },
  {
   "cell_type": "code",
   "execution_count": 50,
   "id": "18c09b63",
   "metadata": {},
   "outputs": [],
   "source": [
    "result == None"
   ]
  },
  {
   "cell_type": "markdown",
   "id": "a08e38f6",
   "metadata": {},
   "source": [
    "Putting all that together, here's a function that loops through the lines in the book until it finds one that matches the given pattern, and returns the `Match` object."
   ]
  },
  {
   "cell_type": "code",
   "execution_count": 51,
   "id": "fedb7d95",
   "metadata": {},
   "outputs": [],
   "source": [
    "def find_first(pattern):\n",
    "    for line in open('pg345_cleaned.txt'):\n",
    "        result = re.search(pattern, line)\n",
    "        if result != None:\n",
    "            return result"
   ]
  },
  {
   "cell_type": "markdown",
   "id": "96570515",
   "metadata": {},
   "source": [
    "We can use it to find the first mention of a character."
   ]
  },
  {
   "cell_type": "code",
   "execution_count": 52,
   "id": "d7cbe2c2",
   "metadata": {},
   "outputs": [],
   "source": [
    "result = find_first('Harker')\n",
    "result.string"
   ]
  },
  {
   "cell_type": "markdown",
   "id": "3f687fdc",
   "metadata": {},
   "source": [
    "For this example, we didn't have to use regular expressions -- we could have done the same thing more easily with the `in` operator.\n",
    "But regular expressions can do things the `in` operator cannot.\n",
    "\n",
    "For example, if the pattern includes the vertical bar character, `'|'`, it can match either the sequence on the left or the sequence on the right.\n",
    "Suppose we want to find the first mention of Mina Murray in the book, but we are not sure whether she is referred to by first name or last.\n",
    "We can use the following pattern, which matches either name."
   ]
  },
  {
   "cell_type": "code",
   "execution_count": 53,
   "id": "96c64f83",
   "metadata": {},
   "outputs": [],
   "source": [
    "pattern = 'Mina|Murray'\n",
    "result = find_first(pattern)\n",
    "result.string"
   ]
  },
  {
   "cell_type": "markdown",
   "id": "8bea66a6",
   "metadata": {},
   "source": [
    "We can use a pattern like this to see how many times a character is mentioned by either name.\n",
    "Here's a function that loops through the book and counts the number of lines that match the given pattern."
   ]
  },
  {
   "cell_type": "code",
   "execution_count": 54,
   "id": "d0d2e926",
   "metadata": {},
   "outputs": [],
   "source": [
    "def count_matches(pattern):\n",
    "    count = 0\n",
    "    for line in open('pg345_cleaned.txt'):\n",
    "        result = re.search(pattern, line)\n",
    "        if result != None:\n",
    "            count += 1\n",
    "    return count"
   ]
  },
  {
   "cell_type": "markdown",
   "id": "0e753a5b",
   "metadata": {},
   "source": [
    "Now let's see how many times Mina is mentioned."
   ]
  },
  {
   "cell_type": "code",
   "execution_count": 55,
   "id": "d7e8c5b4",
   "metadata": {},
   "outputs": [],
   "source": [
    "count_matches('Mina|Murray')"
   ]
  },
  {
   "cell_type": "markdown",
   "id": "780c9fab",
   "metadata": {},
   "source": [
    "The special character `'^'` matches the beginning of a string, so we can find a line that starts with a given pattern."
   ]
  },
  {
   "cell_type": "code",
   "execution_count": 56,
   "id": "be63c5b0",
   "metadata": {},
   "outputs": [],
   "source": [
    "result = find_first('^Dracula')\n",
    "result.string"
   ]
  },
  {
   "cell_type": "markdown",
   "id": "332bad2e",
   "metadata": {},
   "source": [
    "And the special character `'$'` matches the end of a string, so we can find a line that ends with a given pattern (ignoring the newline at the end)."
   ]
  },
  {
   "cell_type": "code",
   "execution_count": 57,
   "id": "37595ac5",
   "metadata": {},
   "outputs": [],
   "source": [
    "result = find_first('Harker$')\n",
    "result.string"
   ]
  },
  {
   "cell_type": "markdown",
   "id": "d4b22b6e",
   "metadata": {},
   "source": [
    "## String substitution\n",
    "\n",
    "Bram Stoker was born in Ireland, and when *Dracula* was published in 1897, he was living in England.\n",
    "So we would expect him to use the British spelling of words like \"centre\" and \"colour\".\n",
    "To check, we can use the following pattern, which matches either \"centre\" or the American spelling \"center\"."
   ]
  },
  {
   "cell_type": "code",
   "execution_count": 58,
   "id": "18237bea",
   "metadata": {},
   "outputs": [],
   "source": [
    "pattern = 'cent(er|re)'"
   ]
  },
  {
   "cell_type": "markdown",
   "id": "35abfd7d",
   "metadata": {},
   "source": [
    "In this pattern, the parentheses enclose the part of the pattern the vertical bar applies to.\n",
    "So this pattern matches a sequence that starts with `'cent'` and ends with either `'er'` or `'re'`."
   ]
  },
  {
   "cell_type": "code",
   "execution_count": 59,
   "id": "ce65805f",
   "metadata": {},
   "outputs": [],
   "source": [
    "result = find_first(pattern)\n",
    "result.string"
   ]
  },
  {
   "cell_type": "markdown",
   "id": "e5703c18",
   "metadata": {},
   "source": [
    "As expected, he used the British spelling.\n",
    "\n",
    "We can also check whether he used the British spelling of \"colour\".\n",
    "The following pattern uses the special character `'?'`, which means that the previous character is optional."
   ]
  },
  {
   "cell_type": "code",
   "execution_count": 60,
   "id": "af770664",
   "metadata": {},
   "outputs": [],
   "source": [
    "pattern = 'colou?r'"
   ]
  },
  {
   "cell_type": "markdown",
   "id": "beed9a7b",
   "metadata": {},
   "source": [
    "This pattern matches either \"colour\" with the `'u'` or \"color\" without it."
   ]
  },
  {
   "cell_type": "code",
   "execution_count": 61,
   "id": "ed67bde7",
   "metadata": {},
   "outputs": [],
   "source": [
    "result = find_first(pattern)\n",
    "line = result.string\n",
    "line"
   ]
  },
  {
   "cell_type": "markdown",
   "id": "1a31f179",
   "metadata": {},
   "source": [
    "Again, as expected, he used the British spelling.\n",
    "\n",
    "Now suppose we want to produce an edition of the book with American spellings.\n",
    "We can use the `sub` function in the `re` module, which does **string substitution**."
   ]
  },
  {
   "cell_type": "code",
   "execution_count": 62,
   "id": "52dd938c",
   "metadata": {},
   "outputs": [],
   "source": [
    "re.sub(pattern, 'color', line)"
   ]
  },
  {
   "cell_type": "markdown",
   "id": "04a80fc6",
   "metadata": {},
   "source": [
    "The first argument is the pattern we want to find and replace, the second is what we want to replace it with, and the third is the string we want to search.\n",
    "In the result, you can see that \"colour\" has been replaced with \"color\"."
   ]
  },
  {
   "cell_type": "code",
   "execution_count": 63,
   "id": "d2e309a2",
   "metadata": {
    "tags": []
   },
   "outputs": [],
   "source": [
    "# I used this function to search for lines to use as examples\n",
    "\n",
    "def all_matches(pattern):\n",
    "    for line in open('pg345_cleaned.txt'):\n",
    "        result = re.search(pattern, line)\n",
    "        if result:\n",
    "            print(line.strip())"
   ]
  },
  {
   "cell_type": "code",
   "execution_count": 64,
   "id": "3d8b2a9f",
   "metadata": {
    "tags": []
   },
   "outputs": [],
   "source": [
    "# Here's the pattern I used (which uses some features we haven't seen)\n",
    "\n",
    "names = r'(?<!\\.\\s)[A-Z][a-zA-Z]+'\n",
    "\n",
    "all_matches(names)"
   ]
  },
  {
   "cell_type": "markdown",
   "id": "0318507d",
   "metadata": {},
   "source": [
    "## Debugging\n",
    "\n",
    "When you are reading and writing files, debugging can be tricky.\n",
    "If you are working in a Jupyter notebook, you can use **shell commands** to help.\n",
    "For example, to display the first few lines of a file, you can use the command `!head`, like this:"
   ]
  },
  {
   "cell_type": "code",
   "execution_count": 65,
   "id": "cc39942c",
   "metadata": {
    "tags": []
   },
   "outputs": [],
   "source": [
    "!head pg345_cleaned.txt"
   ]
  },
  {
   "cell_type": "markdown",
   "id": "1d480c02",
   "metadata": {},
   "source": [
    "The initial exclamation point, `!`, indicates that this is a shell command, which is not part of Python.\n",
    "To display the last few lines, you can use `!tail`."
   ]
  },
  {
   "cell_type": "code",
   "execution_count": 66,
   "id": "bc3741e1",
   "metadata": {
    "tags": []
   },
   "outputs": [],
   "source": [
    "!tail pg345_cleaned.txt"
   ]
  },
  {
   "cell_type": "markdown",
   "id": "6874023a",
   "metadata": {},
   "source": [
    "When you are working with large files, debugging can be difficult because there might be too much output to check by hand.\n",
    "A good debugging strategy is to start with just part of the file, get the program working, and then run it with the whole file.\n",
    "\n",
    "To make a small file that contains part of a larger file, we can use `!head` again with the redirect operator, `>`, which indicates that the results should be written to a file rather than displayed."
   ]
  },
  {
   "cell_type": "code",
   "execution_count": 67,
   "id": "d4c92501",
   "metadata": {},
   "outputs": [],
   "source": [
    "!head pg345_cleaned.txt > pg345_cleaned_10_lines.txt"
   ]
  },
  {
   "cell_type": "markdown",
   "id": "3fc851f8",
   "metadata": {},
   "source": [
    "By default, `!head` reads the first 10 lines, but it takes an optional argument that indicates the number of lines to read."
   ]
  },
  {
   "cell_type": "code",
   "execution_count": 68,
   "id": "8f6606dd",
   "metadata": {},
   "outputs": [],
   "source": [
    "!head -100 pg345_cleaned.txt > pg345_cleaned_100_lines.txt"
   ]
  },
  {
   "cell_type": "markdown",
   "id": "24871c78",
   "metadata": {},
   "source": [
    "This shell command reads the first 100 lines from `pg345_cleaned.txt` and writes them to a file called `pg345_cleaned_100_lines.txt`.\n",
    "\n",
    "Note: The shell commands `!head` and `!tail` are not available on all operating systems.\n",
    "If they don't work for you, we can write similar functions in Python.\n",
    "See the first exercise at the end of this chapter for suggestions."
   ]
  },
  {
   "cell_type": "markdown",
   "id": "c842524d",
   "metadata": {},
   "source": [
    "## Glossary\n",
    "\n",
    "**sequence:**\n",
    " An ordered collection of values where each value is identified by an integer index.\n",
    "\n",
    "**character:**\n",
    "An element of a string, including letters, numbers, and symbols.\n",
    "\n",
    "**index:**\n",
    " An integer value used to select an item in a sequence, such as a character in a string. In Python indices start from `0`.\n",
    "\n",
    "**slice:**\n",
    " A part of a string specified by a range of indices.\n",
    "\n",
    "**empty string:**\n",
    "A string that contains no characters and has length `0`.\n",
    "\n",
    "**object:**\n",
    " Something a variable can refer to. An object has a type and a value.\n",
    "\n",
    "**immutable:**\n",
    "If the elements of an object cannot be changed, the object is immutable.\n",
    "\n",
    "**invocation:**\n",
    " An expression -- or part of an expression -- that calls a method.\n",
    "\n",
    "**regular expression:**\n",
    "A sequence of characters that defines a search pattern.\n",
    "\n",
    "**pattern:**\n",
    "A rule that specifies the requirements a string has to meet to constitute a match.\n",
    "\n",
    "**string substitution:**\n",
    "Replacement of a string, or part of a string, with another string.\n",
    "\n",
    "**shell command:**\n",
    "A statement in a shell language, which is a language used to interact with an operating system."
   ]
  },
  {
   "cell_type": "markdown",
   "id": "4306e765",
   "metadata": {},
   "source": [
    "## Exercises"
   ]
  },
  {
   "cell_type": "code",
   "execution_count": 69,
   "id": "18bced21",
   "metadata": {
    "tags": []
   },
   "outputs": [],
   "source": [
    "# 这个单元格让Jupyter在出现运行时故障时提供更多调试信息。\n",
    "# 在进行练习前先运行本单元格。\n",
    "\n",
    "%xmode Verbose"
   ]
  },
  {
   "cell_type": "code",
   "execution_count": 70,
   "id": "772f5c14",
   "metadata": {
    "tags": []
   },
   "outputs": [],
   "source": [
    "download('https://gitee.com/regentsai/Think_Python_3e_CN/blob/master/words.txt');"
   ]
  },
  {
   "cell_type": "markdown",
   "id": "5be97ddc",
   "metadata": {},
   "source": [
    "### Ask a virtual assistant\n",
    "\n",
    "In this chapter, we only scratched the surface of what regular expressions can do.\n",
    "To get an idea of what's possible, ask a virtual assistant, \"What are the most common special characters used in Python regular expressions?\"\n",
    "\n",
    "You can also ask for a pattern that matches particular kinds of strings.\n",
    "For example, try asking:\n",
    "\n",
    "* Write a Python regular expression that matches a 10-digit phone number with hyphens.\n",
    "\n",
    "* Write a Python regular expression that matches a street address with a number and a street name, followed by `ST` or `AVE`.\n",
    "\n",
    "* Write a Python regular expression that matches a full name with any common title like `Mr` or `Mrs` followed by any number of names beginning with capital letters, possibly with hyphens between some names.\n",
    "\n",
    "And if you want to see something more complicated, try asking for a regular expression that matches any legal URL.\n",
    "\n",
    "A regular expression often has the letter `r` before the quotation mark, which indicates that it is a \"raw string\".\n",
    "For more information, ask a virtual assistant, \"What is a raw string in Python?\""
   ]
  },
  {
   "cell_type": "code",
   "execution_count": 71,
   "id": "8650dec2",
   "metadata": {
    "tags": []
   },
   "outputs": [],
   "source": [
    "from doctest import run_docstring_examples\n",
    "\n",
    "def run_doctests(func):\n",
    "    run_docstring_examples(func, globals(), name=func.__name__)"
   ]
  },
  {
   "cell_type": "markdown",
   "id": "20dcbbb3",
   "metadata": {},
   "source": [
    "### Exercise\n",
    "\n",
    "See if you can write a function that does the same thing as the shell command `!head`.\n",
    "It should take as arguments the name of a file to read, the number of lines to read, and the name of the file to write the lines into.\n",
    "If the third parameter is `None`, it should display the lines rather than write them to a file.\n",
    "\n",
    "Consider asking a virtual assistant for help, but if you do, tell it not to use a `with` statement or a `try` statement."
   ]
  },
  {
   "cell_type": "code",
   "execution_count": 72,
   "id": "75b12538",
   "metadata": {},
   "outputs": [],
   "source": [
    "# Solution goes here"
   ]
  },
  {
   "cell_type": "markdown",
   "id": "24f6aac3",
   "metadata": {
    "tags": []
   },
   "source": [
    "You can use the following examples to test your function."
   ]
  },
  {
   "cell_type": "code",
   "execution_count": 73,
   "id": "9cbc19cd",
   "metadata": {
    "tags": []
   },
   "outputs": [],
   "source": [
    "head('pg345_cleaned.txt', 10)"
   ]
  },
  {
   "cell_type": "code",
   "execution_count": 74,
   "id": "19de7df0",
   "metadata": {
    "tags": []
   },
   "outputs": [],
   "source": [
    "head('pg345_cleaned.txt', 100, 'pg345_cleaned_100_lines.txt')"
   ]
  },
  {
   "cell_type": "code",
   "execution_count": 75,
   "id": "242f7ba6",
   "metadata": {
    "tags": []
   },
   "outputs": [],
   "source": [
    "!tail pg345_cleaned_100_lines.txt"
   ]
  },
  {
   "cell_type": "markdown",
   "id": "adb78357",
   "metadata": {},
   "source": [
    "### Exercise\n",
    "\n",
    "\"Wordle\" is an online word game where the objective is to guess a five-letter word in six or fewer attempts.\n",
    "Each attempt has to be recognized as a word, not including proper nouns.\n",
    "After each attempt, you get information about which of the letters you guessed appear in the target word, and which ones are in the correct position.\n",
    "\n",
    "For example, suppose the target word is `MOWER` and you guess `TRIED`.\n",
    "You would learn that `E` is in the word and in the correct position, `R` is in the word but not in the correct position, and `T`, `I`, and `D` are not in the word.\n",
    "\n",
    "As a different example, suppose you have guessed the words `SPADE` and `CLERK`, and you've learned that `E` is in the word, but not in either of those positions, and none of the other letters appear in the word.\n",
    "Of the words in the word list, how many could be the target word?\n",
    "Write a function called `check_word` that takes a five-letter word and checks whether it could be the target word, given these guesses."
   ]
  },
  {
   "cell_type": "code",
   "execution_count": 76,
   "id": "2a37092e",
   "metadata": {},
   "outputs": [],
   "source": [
    "# Solution goes here"
   ]
  },
  {
   "cell_type": "markdown",
   "id": "87fdf676",
   "metadata": {},
   "source": [
    "You can use any of the functions from the previous chapter, like `uses_any`."
   ]
  },
  {
   "cell_type": "code",
   "execution_count": 77,
   "id": "8d19b6ce",
   "metadata": {
    "tags": []
   },
   "outputs": [],
   "source": [
    "def uses_any(word, letters):\n",
    "    for letter in word.lower():\n",
    "        if letter in letters.lower():\n",
    "            return True\n",
    "    return False"
   ]
  },
  {
   "cell_type": "markdown",
   "id": "63593f1b",
   "metadata": {
    "tags": []
   },
   "source": [
    "You can use the following loop to test your function."
   ]
  },
  {
   "cell_type": "code",
   "execution_count": 78,
   "id": "9bbf0b1c",
   "metadata": {
    "tags": []
   },
   "outputs": [],
   "source": [
    "for line in open('words.txt'):\n",
    "    word = line.strip()\n",
    "    if len(word) == 5 and check_word(word):\n",
    "        print(word)"
   ]
  },
  {
   "cell_type": "markdown",
   "id": "d009cb52",
   "metadata": {},
   "source": [
    "### Exercise\n",
    "\n",
    "Continuing the previous exercise, suppose you guess the work `TOTEM` and learn that the `E` is *still* not in the right place, but the `M` is. How many words are left?"
   ]
  },
  {
   "cell_type": "code",
   "execution_count": 79,
   "id": "925c7aa9",
   "metadata": {},
   "outputs": [],
   "source": [
    "# Solution goes here"
   ]
  },
  {
   "cell_type": "code",
   "execution_count": 80,
   "id": "3f658f3a",
   "metadata": {},
   "outputs": [],
   "source": [
    "# Solution goes here"
   ]
  },
  {
   "cell_type": "markdown",
   "id": "c1d0f892",
   "metadata": {},
   "source": [
    "### Exercise\n",
    "\n",
    "*The Count of Monte Cristo* is a novel by Alexandre Dumas that is considered a classic.\n",
    "Nevertheless, in the introduction of an English translation of the book, the writer Umberto Eco confesses that he found the book to be \"one of the most badly written novels of all time\".\n",
    "\n",
    "In particular, he says it is \"shameless in its repetition of the same adjective,\" and mentions in particular the number of times \"its characters either shudder or turn pale.\"\n",
    "\n",
    "To see whether his objection is valid, let's count the number number of lines that contain the word `pale` in any form, including `pale`, `pales`, `paled`, and `paleness`, as well as the related word `pallor`. \n",
    "Use a single regular expression that matches any of these words.\n",
    "As an additional challenge, make sure that it doesn't match any other words, like `impale` -- you might want to ask a virtual assistant for help."
   ]
  },
  {
   "cell_type": "markdown",
   "id": "742efd98",
   "metadata": {
    "tags": []
   },
   "source": [
    "The following cell downloads the book from Project Gutenberg <https://www.gutenberg.org/ebooks/1184>."
   ]
  },
  {
   "cell_type": "code",
   "execution_count": 81,
   "id": "9a74be13",
   "metadata": {
    "tags": []
   },
   "outputs": [],
   "source": [
    "import os\n",
    "\n",
    "if not os.path.exists('pg1184.txt'):\n",
    "    !wget https://www.gutenberg.org/cache/epub/1184/pg1184.txt"
   ]
  },
  {
   "cell_type": "markdown",
   "id": "881c2f99",
   "metadata": {
    "tags": []
   },
   "source": [
    "The following cell runs a function that reads the file from Project Gutenberg and writes a file that contains only the text of the book, not the added information about the book."
   ]
  },
  {
   "cell_type": "code",
   "execution_count": 82,
   "id": "946c63d2",
   "metadata": {
    "tags": []
   },
   "outputs": [],
   "source": [
    "def clean_file(input_file, output_file):\n",
    "    reader = open(input_file)\n",
    "    writer = open(output_file, 'w')\n",
    "\n",
    "    for line in reader:\n",
    "        if is_special_line(line):\n",
    "            break\n",
    "\n",
    "    for line in reader:\n",
    "        if is_special_line(line):\n",
    "            break\n",
    "        writer.write(line)\n",
    "        \n",
    "    reader.close()\n",
    "    writer.close()\n",
    "\n",
    "clean_file('pg1184.txt', 'pg1184_cleaned.txt')"
   ]
  },
  {
   "cell_type": "code",
   "execution_count": 83,
   "id": "08294921",
   "metadata": {},
   "outputs": [],
   "source": [
    "# Solution goes here"
   ]
  },
  {
   "cell_type": "code",
   "execution_count": 84,
   "id": "3eb8f83f",
   "metadata": {},
   "outputs": [],
   "source": [
    "# Solution goes here"
   ]
  },
  {
   "cell_type": "code",
   "execution_count": 85,
   "id": "b6bffe8a",
   "metadata": {},
   "outputs": [],
   "source": [
    "# Solution goes here"
   ]
  },
  {
   "cell_type": "markdown",
   "id": "7db56337",
   "metadata": {
    "tags": []
   },
   "source": [
    "By this count, these words appear on `223` lines of the book, so Mr. Eco might have a point."
   ]
  },
  {
   "cell_type": "markdown",
   "id": "a7f4edf8",
   "metadata": {
    "tags": []
   },
   "source": [
    "[Think Python: 3rd Edition](https://allendowney.github.io/ThinkPython/index.html)\n",
    "\n",
    "Copyright 2024 [Allen B. Downey](https://allendowney.com)\n",
    "\n",
    "Code license: [MIT License](https://mit-license.org/)\n",
    "\n",
    "Text license: [Creative Commons Attribution-NonCommercial-ShareAlike 4.0 International](https://creativecommons.org/licenses/by-nc-sa/4.0/)"
   ]
  }
 ],
 "metadata": {
  "celltoolbar": "Tags",
  "kernelspec": {
   "display_name": "cctbx",
   "language": "python",
   "name": "python3"
  },
  "language_info": {
   "codemirror_mode": {
    "name": "ipython",
    "version": 3
   },
   "file_extension": ".py",
   "mimetype": "text/x-python",
   "name": "python",
   "nbconvert_exporter": "python",
   "pygments_lexer": "ipython3",
   "version": "3.11.11"
  }
 },
 "nbformat": 4,
 "nbformat_minor": 5
}
